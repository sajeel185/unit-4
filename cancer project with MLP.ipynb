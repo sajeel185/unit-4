{
 "cells": [
  {
   "cell_type": "code",
   "execution_count": 1,
   "metadata": {},
   "outputs": [],
   "source": [
    "import pandas as pd\n",
    "import numpy as np\n",
    "import matplotlib.pyplot as plt\n",
    "%matplotlib inline\n",
    "import seaborn as sns\n",
    "from sklearn.naive_bayes import BernoulliNB\n",
    "from sklearn.model_selection import train_test_split\n",
    "from sklearn.metrics import confusion_matrix\n",
    "from sklearn.neighbors import KNeighborsClassifier\n",
    "from scipy import stats\n",
    "from sklearn.model_selection import cross_val_score\n",
    "from sklearn.model_selection import GridSearchCV\n",
    "from sklearn import ensemble\n",
    "from sklearn import tree\n",
    "from sklearn.linear_model import LogisticRegression\n",
    "from sklearn import metrics\n",
    "from sklearn.metrics import classification_report\n",
    "from sklearn.metrics import roc_curve\n",
    "from sklearn.metrics import roc_auc_score\n",
    "import datetime\n",
    "from sklearn.preprocessing import StandardScaler\n",
    "from sklearn.decomposition import PCA\n",
    "from sklearn.feature_selection import SelectKBest\n",
    "from sklearn.feature_selection import chi2\n",
    "from sklearn.feature_selection import f_classif"
   ]
  },
  {
   "cell_type": "markdown",
   "metadata": {},
   "source": [
    "### The dataset that we will use for this project will be the \"Breast Cancer Wisconsin (Diagnostic) Data Set, and it deals with binary classification and includes features computed from digitized images of biopsies.  I will perform many types of models and select the one that gives us the best cross validated score, while balancing the performance time.  Also, I will provide classification reports, ROC curves and AUC scores for each respective model"
   ]
  },
  {
   "cell_type": "code",
   "execution_count": 2,
   "metadata": {},
   "outputs": [
    {
     "name": "stdout",
     "output_type": "stream",
     "text": [
      "   SampleCode  ClumpThickness  UniformityCellSize  Uniformity_CellShape  \\\n",
      "0     1000025               5                   1                     1   \n",
      "1     1002945               5                   4                     4   \n",
      "2     1015425               3                   1                     1   \n",
      "3     1016277               6                   8                     8   \n",
      "4     1017023               4                   1                     1   \n",
      "\n",
      "   MarginalAdhesion  Single_Epi_CellSize BareNuclei  BlandChromatin  \\\n",
      "0                 1                    2          1               3   \n",
      "1                 5                    7         10               3   \n",
      "2                 1                    2          2               3   \n",
      "3                 1                    3          4               3   \n",
      "4                 3                    2          1               3   \n",
      "\n",
      "   NormalNucleolei  Mitosis  Class  \n",
      "0                1        1      2  \n",
      "1                2        1      2  \n",
      "2                1        1      2  \n",
      "3                7        1      2  \n",
      "4                1        1      2  \n",
      "(691, 11)\n"
     ]
    }
   ],
   "source": [
    "column_names = ['SampleCode', 'ClumpThickness', 'UniformityCellSize', 'Uniformity_CellShape', 'MarginalAdhesion',\n",
    "               'Single_Epi_CellSize', 'BareNuclei', 'BlandChromatin', 'NormalNucleolei', 'Mitosis', 'Class']\n",
    "\n",
    "df = pd.read_csv('breast cancer wisconsin.csv', names=column_names)\n",
    "df = df.drop_duplicates()\n",
    "# = df.reset_index()\n",
    "print(df.head())\n",
    "print(df.shape)"
   ]
  },
  {
   "cell_type": "code",
   "execution_count": 3,
   "metadata": {},
   "outputs": [],
   "source": [
    "#replace strings with numbers\n",
    "df['BareNuclei'] = df['BareNuclei'].str.replace('?', '1')\n",
    "#print(df['BareNuclei'][:50])\n",
    "\n",
    "#check to see if all values in series is numeric\n",
    "#print(df['BareNuclei'][:50].str.isnumeric())"
   ]
  },
  {
   "cell_type": "code",
   "execution_count": 4,
   "metadata": {},
   "outputs": [
    {
     "name": "stdout",
     "output_type": "stream",
     "text": [
      "453\n",
      "238\n"
     ]
    }
   ],
   "source": [
    "# Resampling our data to correct for imbalance in our class variable\n",
    "\n",
    "# Class count, 2 represents benign, and 4 represents malignant\n",
    "count_class_2, count_class_4 = df.Class.value_counts()\n",
    "print(count_class_2)\n",
    "print(count_class_4)\n",
    "# Divide by class\n",
    "df_class_2 = df[df['Class'] == 2]\n",
    "df_class_4 = df[df['Class'] == 4]"
   ]
  },
  {
   "cell_type": "code",
   "execution_count": 5,
   "metadata": {},
   "outputs": [
    {
     "name": "stdout",
     "output_type": "stream",
     "text": [
      "Random under-sampling:\n",
      "4    238\n",
      "2    238\n",
      "Name: Class, dtype: int64\n"
     ]
    },
    {
     "data": {
      "text/plain": [
       "<matplotlib.axes._subplots.AxesSubplot at 0x20feecd5160>"
      ]
     },
     "execution_count": 5,
     "metadata": {},
     "output_type": "execute_result"
    },
    {
     "data": {
      "image/png": "[encoded data removed]",
      "text/plain": [
       "<Figure size 432x288 with 1 Axes>"
      ]
     },
     "metadata": {
      "needs_background": "light"
     },
     "output_type": "display_data"
    }
   ],
   "source": [
    "#extract the observations with class zero, equal to the number of obervations equal\n",
    "df_class_2_under = df_class_2.sample(count_class_4)\n",
    "\n",
    "#create a new dataframe with the same number of values for our two classes\n",
    "new_df = pd.concat([df_class_2_under, df_class_4], axis=0)\n",
    "\n",
    "print('Random under-sampling:')\n",
    "print(new_df.Class.value_counts())\n",
    "\n",
    "new_df.Class.value_counts().plot(kind='bar', title='Count (target)')"
   ]
  },
  {
   "cell_type": "code",
   "execution_count": 6,
   "metadata": {},
   "outputs": [
    {
     "data": {
      "text/plain": [
       "SampleCode              0\n",
       "ClumpThickness          0\n",
       "UniformityCellSize      0\n",
       "Uniformity_CellShape    0\n",
       "MarginalAdhesion        0\n",
       "Single_Epi_CellSize     0\n",
       "BareNuclei              0\n",
       "BlandChromatin          0\n",
       "NormalNucleolei         0\n",
       "Mitosis                 0\n",
       "Class                   0\n",
       "dtype: int64"
      ]
     },
     "execution_count": 6,
     "metadata": {},
     "output_type": "execute_result"
    }
   ],
   "source": [
    "#check for any null spaces in our data\n",
    "new_df.isnull().sum()"
   ]
  },
  {
   "cell_type": "code",
   "execution_count": 7,
   "metadata": {},
   "outputs": [
    {
     "name": "stdout",
     "output_type": "stream",
     "text": [
      "(476, 9)\n",
      "(476,)\n"
     ]
    }
   ],
   "source": [
    "#split the data\n",
    "X = new_df.drop(['Class', 'SampleCode'], 1)\n",
    "\n",
    "#make the dependent 'class' variable binary\n",
    "new_df['Class'] = np.where(new_df['Class'] > 2, 1, 0)\n",
    "\n",
    "Y = new_df['Class']\n",
    "\n",
    "print(X.shape)\n",
    "print(Y.shape)\n",
    "#print(Y)"
   ]
  },
  {
   "cell_type": "code",
   "execution_count": 8,
   "metadata": {},
   "outputs": [
    {
     "name": "stdout",
     "output_type": "stream",
     "text": [
      "AxesSubplot(0.125,0.125;0.62x0.755)\n"
     ]
    },
    {
     "data": {
      "image/png": "[encoded data removed]",
      "text/plain": [
       "<Figure size 432x288 with 2 Axes>"
      ]
     },
     "metadata": {
      "needs_background": "light"
     },
     "output_type": "display_data"
    }
   ],
   "source": [
    "#Creating a heatmap to check for any correlation between our independent variables.\n",
    "Xvar_heatmap = sns.heatmap(X.corr(), vmin=-1, vmax=1)\n",
    "\n",
    "print(Xvar_heatmap)\n"
   ]
  },
  {
   "cell_type": "markdown",
   "metadata": {},
   "source": [
    "#### From the heatmap above, we see that there is correlation between some of our independent variables.  Specifically the independent variables related to cell shape and cell size, such as Uniformity_CellShape, UniformityCellSize and Single_Epi_CellSize, have high correlations with each other.  This could be problematic for some of our models; for  example with Naive Bayes because of this model's assumption that all independent variables are completely independent of each other. "
   ]
  },
  {
   "cell_type": "code",
   "execution_count": 9,
   "metadata": {},
   "outputs": [
    {
     "data": {
      "image/png": "[encoded data removed]",
      "text/plain": [
       "<Figure size 720x360 with 2 Axes>"
      ]
     },
     "metadata": {
      "needs_background": "light"
     },
     "output_type": "display_data"
    }
   ],
   "source": [
    "#column_names = ['SampleCode', 'ClumpThickness', 'UniformityCellSize', 'Uniformity_CellShape', 'MarginalAdhesion',\n",
    "#               'Single_Epi_CellSize', 'BareNuclei', 'BlandChromatin', 'NormalNucleolei', 'Mitosis', 'Class']\n",
    "\n",
    "\n",
    "#plotting the relationship between the independent and dependent variables, as well as the histograpsh of independent variables.\n",
    "plt.figure(figsize=(10, 5))\n",
    "\n",
    "plt.subplot(1, 2, 1)\n",
    "plt.scatter(x = new_df['ClumpThickness'], y = new_df['Class'], color='blue')\n",
    "plt.ylabel('Values')\n",
    "plt.title('Relationship between ClumpThickness and Class')\n",
    "\n",
    "plt.subplot(1, 2, 2)\n",
    "plt.hist(new_df['ClumpThickness'], color='green')\n",
    "plt.axvline(new_df['ClumpThickness'].mean(), color='b', linestyle='solid', linewidth=2)\n",
    "plt.axvline(new_df['ClumpThickness'].mean() + new_df['ClumpThickness'].std(), color='b', linestyle='dashed', linewidth=2)\n",
    "plt.axvline(new_df['ClumpThickness'].mean()- new_df['ClumpThickness'].std(), color='b', linestyle='dashed', linewidth=2) \n",
    "plt.ylabel('values')\n",
    "plt.title('ClumpThickness')\n",
    "\n",
    "plt.tight_layout()\n",
    "plt.show()"
   ]
  },
  {
   "cell_type": "code",
   "execution_count": 10,
   "metadata": {},
   "outputs": [
    {
     "data": {
      "image/png": "[encoded data removed]",
      "text/plain": [
       "<Figure size 720x360 with 2 Axes>"
      ]
     },
     "metadata": {
      "needs_background": "light"
     },
     "output_type": "display_data"
    }
   ],
   "source": [
    "plt.figure(figsize=(10, 5))\n",
    "\n",
    "plt.subplot(1, 2, 1)\n",
    "plt.scatter(x = new_df['UniformityCellSize'], y = new_df['Class'], color='blue')\n",
    "plt.ylabel('Values')\n",
    "plt.title('Relationship between UniformityCellSize and Class')\n",
    "\n",
    "plt.subplot(1, 2, 2)\n",
    "plt.hist(new_df['UniformityCellSize'], color='green')\n",
    "plt.axvline(new_df['UniformityCellSize'].mean(), color='b', linestyle='solid', linewidth=2)\n",
    "plt.axvline(new_df['UniformityCellSize'].mean() + new_df['UniformityCellSize'].std(), color='b', linestyle='dashed', linewidth=2)\n",
    "plt.axvline(new_df['UniformityCellSize'].mean()- new_df['UniformityCellSize'].std(), color='b', linestyle='dashed', linewidth=2) \n",
    "plt.ylabel('values')\n",
    "plt.title('UniformityCellSize')\n",
    "\n",
    "plt.tight_layout()\n",
    "plt.show()"
   ]
  },
  {
   "cell_type": "code",
   "execution_count": 11,
   "metadata": {},
   "outputs": [
    {
     "data": {
      "image/png": "[encoded data removed]",
      "text/plain": [
       "<Figure size 720x360 with 2 Axes>"
      ]
     },
     "metadata": {
      "needs_background": "light"
     },
     "output_type": "display_data"
    }
   ],
   "source": [
    "plt.figure(figsize=(10, 5))\n",
    "\n",
    "plt.subplot(1, 2, 1)\n",
    "plt.scatter(x = new_df['Uniformity_CellShape'], y = new_df['Class'], color='blue')\n",
    "plt.ylabel('Values')\n",
    "plt.title('Relationship between Uniformity_CellShape and Class')\n",
    "\n",
    "plt.subplot(1, 2, 2)\n",
    "plt.hist(new_df['Uniformity_CellShape'], color='green')\n",
    "plt.axvline(new_df['Uniformity_CellShape'].mean(), color='b', linestyle='solid', linewidth=2)\n",
    "plt.axvline(new_df['Uniformity_CellShape'].mean() + new_df['Uniformity_CellShape'].std(), color='b', linestyle='dashed', linewidth=2)\n",
    "plt.axvline(new_df['Uniformity_CellShape'].mean()- new_df['Uniformity_CellShape'].std(), color='b', linestyle='dashed', linewidth=2) \n",
    "plt.ylabel('values')\n",
    "plt.title('Uniformity_CellShape')\n",
    "\n",
    "plt.tight_layout()\n",
    "plt.show()"
   ]
  },
  {
   "cell_type": "code",
   "execution_count": 12,
   "metadata": {},
   "outputs": [
    {
     "data": {
      "image/png": "[encoded data removed]",
      "text/plain": [
       "<Figure size 720x360 with 2 Axes>"
      ]
     },
     "metadata": {
      "needs_background": "light"
     },
     "output_type": "display_data"
    }
   ],
   "source": [
    "plt.figure(figsize=(10, 5))\n",
    "\n",
    "plt.subplot(1, 2, 1)\n",
    "plt.scatter(x = new_df['MarginalAdhesion'], y = new_df['Class'], color='blue')\n",
    "plt.ylabel('Values')\n",
    "plt.title('Relationship between MarginalAdhesion and Class')\n",
    "\n",
    "plt.subplot(1, 2, 2)\n",
    "plt.hist(new_df['MarginalAdhesion'], color='green')\n",
    "plt.axvline(new_df['MarginalAdhesion'].mean(), color='b', linestyle='solid', linewidth=2)\n",
    "plt.axvline(new_df['MarginalAdhesion'].mean() + new_df['MarginalAdhesion'].std(), color='b', linestyle='dashed', linewidth=2)\n",
    "plt.axvline(new_df['MarginalAdhesion'].mean()- new_df['MarginalAdhesion'].std(), color='b', linestyle='dashed', linewidth=2) \n",
    "plt.ylabel('values')\n",
    "plt.title('MarginalAdhesion')\n",
    "\n",
    "plt.tight_layout()\n",
    "plt.show()"
   ]
  },
  {
   "cell_type": "code",
   "execution_count": 13,
   "metadata": {},
   "outputs": [
    {
     "data": {
      "image/png": "[encoded data removed]",
      "text/plain": [
       "<Figure size 720x360 with 2 Axes>"
      ]
     },
     "metadata": {
      "needs_background": "light"
     },
     "output_type": "display_data"
    }
   ],
   "source": [
    "plt.figure(figsize=(10, 5))\n",
    "\n",
    "plt.subplot(1, 2, 1)\n",
    "plt.scatter(x = new_df['Single_Epi_CellSize'], y = new_df['Class'], color='blue')\n",
    "plt.ylabel('Values')\n",
    "plt.title('Relationship between Single_Epi_CellSize and Class')\n",
    "\n",
    "plt.subplot(1, 2, 2)\n",
    "plt.hist(new_df['Single_Epi_CellSize'], color='green')\n",
    "plt.axvline(new_df['Single_Epi_CellSize'].mean(), color='b', linestyle='solid', linewidth=2)\n",
    "plt.axvline(new_df['Single_Epi_CellSize'].mean() + new_df['Single_Epi_CellSize'].std(), color='b', linestyle='dashed', linewidth=2)\n",
    "plt.axvline(new_df['Single_Epi_CellSize'].mean()- new_df['Single_Epi_CellSize'].std(), color='b', linestyle='dashed', linewidth=2) \n",
    "plt.ylabel('values')\n",
    "plt.title('Single_Epi_CellSize')\n",
    "\n",
    "plt.tight_layout()\n",
    "plt.show()"
   ]
  },
  {
   "cell_type": "code",
   "execution_count": 14,
   "metadata": {},
   "outputs": [
    {
     "data": {
      "image/png": "[encoded data removed]",
      "text/plain": [
       "<Figure size 720x360 with 2 Axes>"
      ]
     },
     "metadata": {
      "needs_background": "light"
     },
     "output_type": "display_data"
    }
   ],
   "source": [
    "plt.figure(figsize=(10, 5))\n",
    "\n",
    "plt.subplot(1, 2, 1)\n",
    "plt.scatter(x = new_df['BlandChromatin'], y = new_df['Class'], color='blue')\n",
    "plt.ylabel('Values')\n",
    "plt.title('Relationship between BlandChromatin and Class')\n",
    "\n",
    "plt.subplot(1, 2, 2)\n",
    "plt.hist(new_df['BlandChromatin'], color='green')\n",
    "plt.axvline(new_df['BlandChromatin'].mean(), color='b', linestyle='solid', linewidth=2)\n",
    "plt.axvline(new_df['BlandChromatin'].mean() + new_df['BlandChromatin'].std(), color='b', linestyle='dashed', linewidth=2)\n",
    "plt.axvline(new_df['BlandChromatin'].mean()- new_df['BlandChromatin'].std(), color='b', linestyle='dashed', linewidth=2) \n",
    "plt.ylabel('values')\n",
    "plt.title('BlandChromatin')\n",
    "\n",
    "plt.tight_layout()\n",
    "plt.show()"
   ]
  },
  {
   "cell_type": "code",
   "execution_count": 15,
   "metadata": {},
   "outputs": [
    {
     "data": {
      "image/png": "[encoded data removed]",
      "text/plain": [
       "<Figure size 720x360 with 2 Axes>"
      ]
     },
     "metadata": {
      "needs_background": "light"
     },
     "output_type": "display_data"
    }
   ],
   "source": [
    "plt.figure(figsize=(10, 5))\n",
    "\n",
    "plt.subplot(1, 2, 1)\n",
    "plt.scatter(x = new_df['NormalNucleolei'], y = new_df['Class'], color='blue')\n",
    "plt.ylabel('Values')\n",
    "plt.title('Relationship between NormalNuleolei and Class')\n",
    "\n",
    "plt.subplot(1, 2, 2)\n",
    "plt.hist(new_df['NormalNucleolei'], color='green')\n",
    "plt.axvline(new_df['NormalNucleolei'].mean(), color='b', linestyle='solid', linewidth=2)\n",
    "plt.axvline(new_df['NormalNucleolei'].mean() + new_df['NormalNucleolei'].std(), color='b', linestyle='dashed', linewidth=2)\n",
    "plt.axvline(new_df['NormalNucleolei'].mean()- new_df['NormalNucleolei'].std(), color='b', linestyle='dashed', linewidth=2) \n",
    "plt.ylabel('values')\n",
    "plt.title('NormalNucleolei')\n",
    "\n",
    "plt.tight_layout()\n",
    "plt.show()"
   ]
  },
  {
   "cell_type": "code",
   "execution_count": 16,
   "metadata": {},
   "outputs": [
    {
     "data": {
      "image/png": "[encoded data removed]",
      "text/plain": [
       "<Figure size 720x360 with 2 Axes>"
      ]
     },
     "metadata": {
      "needs_background": "light"
     },
     "output_type": "display_data"
    }
   ],
   "source": [
    "plt.figure(figsize=(10, 5))\n",
    "\n",
    "plt.subplot(1, 2, 1)\n",
    "plt.scatter(x = new_df['Mitosis'], y = new_df['Class'], color='blue')\n",
    "plt.ylabel('Values')\n",
    "plt.title('Relationship between Mitosis and Class')\n",
    "\n",
    "plt.subplot(1, 2, 2)\n",
    "plt.hist(new_df['Mitosis'], color='green')\n",
    "plt.axvline(new_df['Mitosis'].mean(), color='b', linestyle='solid', linewidth=2)\n",
    "plt.axvline(new_df['Mitosis'].mean() + new_df['Mitosis'].std(), color='b', linestyle='dashed', linewidth=2)\n",
    "plt.axvline(new_df['Mitosis'].mean()- new_df['Mitosis'].std(), color='b', linestyle='dashed', linewidth=2) \n",
    "plt.ylabel('values')\n",
    "plt.title('Mitosis')\n",
    "\n",
    "plt.tight_layout()\n",
    "plt.show()"
   ]
  },
  {
   "cell_type": "code",
   "execution_count": 17,
   "metadata": {},
   "outputs": [],
   "source": [
    "#sns.pairplot(X)\n",
    "#X_grid = sns.PairGrid(X)\n",
    "#X_grid = X_grid.map(plt.scatter)"
   ]
  },
  {
   "cell_type": "markdown",
   "metadata": {},
   "source": [
    "#### I will attempt to deal with this multicollinearity using PCA, and separately also with SelectKBest.  I will then run each model using the full feature dataset, the PCA dataset with reduced dimensions, and the SelectKBest dataset with the reduced number of features, side by side so that I can give an accurate comparison."
   ]
  },
  {
   "cell_type": "code",
   "execution_count": 18,
   "metadata": {},
   "outputs": [],
   "source": [
    "#initial set of train and test groups, before applying SelectKBest and PCA.\n",
    "\n",
    "train_X, test_X, train_Y, test_Y = train_test_split(X, Y, test_size=.3, random_state=10)"
   ]
  },
  {
   "cell_type": "markdown",
   "metadata": {},
   "source": [
    "# PCA:"
   ]
  },
  {
   "cell_type": "code",
   "execution_count": 19,
   "metadata": {},
   "outputs": [
    {
     "name": "stderr",
     "output_type": "stream",
     "text": [
      "C:\\Users\\sajee\\AppData\\Local\\Continuum\\anaconda3\\lib\\site-packages\\sklearn\\preprocessing\\data.py:625: DataConversionWarning: Data with input dtype int64, object were all converted to float64 by StandardScaler.\n",
      "  return self.partial_fit(X, y)\n",
      "C:\\Users\\sajee\\AppData\\Local\\Continuum\\anaconda3\\lib\\site-packages\\sklearn\\base.py:462: DataConversionWarning: Data with input dtype int64, object were all converted to float64 by StandardScaler.\n",
      "  return self.fit(X, **fit_params).transform(X)\n"
     ]
    }
   ],
   "source": [
    "# Normalize the data so that all variables have a mean of 0 and standard deviation\n",
    "# o\n",
    "\n",
    "X_scaled = StandardScaler().fit_transform(X)"
   ]
  },
  {
   "cell_type": "code",
   "execution_count": 20,
   "metadata": {},
   "outputs": [
    {
     "name": "stdout",
     "output_type": "stream",
     "text": [
      "7\n",
      "[0.63022409 0.09067808 0.06429537 0.05753047 0.04527482 0.03708223\n",
      " 0.03216931]\n"
     ]
    }
   ],
   "source": [
    "#Apply PCA\n",
    "\n",
    "pca = PCA(.95)\n",
    "X_pca = pca.fit_transform(X_scaled)\n",
    "\n",
    "comp_no = pca.n_components_\n",
    "comp_var_ratio = pca.explained_variance_ratio_\n",
    "\n",
    "print(comp_no)\n",
    "print(comp_var_ratio)\n",
    "#print(p_components)"
   ]
  },
  {
   "cell_type": "code",
   "execution_count": 21,
   "metadata": {},
   "outputs": [
    {
     "name": "stdout",
     "output_type": "stream",
     "text": [
      "          0         1         2         3         4         5         6\n",
      "0 -1.819051 -0.030140  0.070461  0.232032  0.052560 -0.345572 -0.411743\n",
      "1 -2.512913  0.225841  0.572867  0.026588  0.040350  0.056452 -0.231034\n",
      "2 -1.900973 -0.103155 -0.474851 -0.059394 -0.234005 -0.575101  0.204803\n",
      "3 -2.544308  0.267516  0.227921  0.042016  0.083695  0.083716  0.072843\n",
      "4 -2.308768  0.130562  0.010619  0.057118  0.023043 -0.051952  0.003972\n",
      "(476, 7)\n"
     ]
    }
   ],
   "source": [
    "#pca data to dataframe\n",
    "pca_df = pd.DataFrame(data=X_pca)\n",
    "print(pca_df.head())\n",
    "print(pca_df.shape)"
   ]
  },
  {
   "cell_type": "code",
   "execution_count": 22,
   "metadata": {},
   "outputs": [],
   "source": [
    "#After applying PCA, I split the data into a second set of train and test groups\n",
    "\n",
    "train_X_pca, test_X_pca, train_Y_pca, test_Y_pca = train_test_split(X_pca, Y, test_size=.3, random_state=20)"
   ]
  },
  {
   "cell_type": "markdown",
   "metadata": {},
   "source": [
    "# SelectKBest:"
   ]
  },
  {
   "cell_type": "code",
   "execution_count": null,
   "metadata": {},
   "outputs": [],
   "source": [
    "#performing GridsearchCV to get the best parameters for SelectKBest.\n",
    "#Kbest = SelectKBest().fit_transform(X, Y)\n",
    "#K_params = {'k':[1,2,3,4,5,6], 'score_func':[chi2, f_classif]}\n",
    "#Kgrid = GridSearchCV(Kbest, K_params, cv=5, scoring='accuracy')\n",
    "#Kgrid.fit(X, Y)\n",
    "#print('Best parameters for SelectKBest:', Kgrid.best_params_)"
   ]
  },
  {
   "cell_type": "code",
   "execution_count": 23,
   "metadata": {},
   "outputs": [
    {
     "name": "stdout",
     "output_type": "stream",
     "text": [
      "(476, 6)\n"
     ]
    }
   ],
   "source": [
    "#applying selectKBest.\n",
    "X_skb = SelectKBest(f_classif, k=6).fit_transform(X, Y)\n",
    "print(X_skb.shape)"
   ]
  },
  {
   "cell_type": "code",
   "execution_count": 24,
   "metadata": {},
   "outputs": [],
   "source": [
    "#After applying SelectKBest, I split the data into a third set of train and test groups\n",
    "train_X_skb, test_X_skb, train_Y_skb, test_Y_skb = train_test_split(X_skb, Y, test_size=.3, random_state=20)"
   ]
  },
  {
   "cell_type": "markdown",
   "metadata": {},
   "source": [
    "# Naive Bayes:"
   ]
  },
  {
   "cell_type": "code",
   "execution_count": 25,
   "metadata": {},
   "outputs": [
    {
     "name": "stdout",
     "output_type": "stream",
     "text": [
      "Accuracy score: 0.48951048951048953\n",
      "\n",
      "Duration: 0:00:00.003232\n",
      "\n",
      "[0.5 0.5 0.5 0.5 0.5 0.5 0.5 0.5 0.5 0.5]\n",
      "Average cross validated score from our Naive Bayes model is: 0.5\n"
     ]
    }
   ],
   "source": [
    "#Model using full dataset\n",
    "\n",
    "# Instantiate our model and store it in a variable\n",
    "bnb = BernoulliNB()\n",
    "\n",
    "#set start time\n",
    "start_time = datetime.datetime.now()\n",
    "\n",
    "# Fit our model to the data.\n",
    "bnb.fit(train_X, train_Y)\n",
    "\n",
    "# Classify, storing the result in a new variable.\n",
    "y_pred_bayes = bnb.predict(test_X)\n",
    "\n",
    "#Run accuracy score\n",
    "print('Accuracy score: ' + str(metrics.accuracy_score(test_Y, y_pred_bayes)))\n",
    "\n",
    "#calculate end time\n",
    "end_time = datetime.datetime.now()\n",
    "\n",
    "#print the execution run time for our model\n",
    "print('\\nDuration: {}'.format(end_time - start_time))\n",
    "print()\n",
    "\n",
    "#Use cross validation to gauge the accuracy of our model\n",
    "Nbayes_cvs = cross_val_score(bnb, X, Y, cv=10, scoring='accuracy')\n",
    "print(Nbayes_cvs)\n",
    "print('Average cross validated score from our Naive Bayes model is: ' + str(np.mean(Nbayes_cvs)))\n"
   ]
  },
  {
   "cell_type": "code",
   "execution_count": 26,
   "metadata": {},
   "outputs": [
    {
     "name": "stdout",
     "output_type": "stream",
     "text": [
      "AUC Score: 0.500\n"
     ]
    },
    {
     "data": {
      "image/png": "[encoded data removed]",
      "text/plain": [
       "<Figure size 432x288 with 1 Axes>"
      ]
     },
     "metadata": {
      "needs_background": "light"
     },
     "output_type": "display_data"
    }
   ],
   "source": [
    "# predict probabilities\n",
    "probs = bnb.predict_proba(test_X)\n",
    "# keep probabilities for the positive outcome only\n",
    "probs = probs[:, 1]\n",
    "# calculate AUC\n",
    "bayes_auc = roc_auc_score(test_Y, probs)\n",
    "print('AUC Score: %.3f' % bayes_auc)\n",
    "# calculate roc curve\n",
    "fpr, tpr, thresholds = roc_curve(test_Y, probs)\n",
    "# plot no skill\n",
    "plt.plot([0, 1], [0, 1], linestyle='--')\n",
    "# plot the roc curve for the model\n",
    "plt.plot(fpr, tpr, marker='.')\n",
    "# show the plot\n",
    "plt.show()"
   ]
  },
  {
   "cell_type": "code",
   "execution_count": 27,
   "metadata": {},
   "outputs": [
    {
     "name": "stdout",
     "output_type": "stream",
     "text": [
      "                   precision    recall  f1-score   support\n",
      "\n",
      "   Class_2_Benign       0.00      0.00      0.00        73\n",
      "Class_4_Malignant       0.49      1.00      0.66        70\n",
      "\n",
      "        micro avg       0.49      0.49      0.49       143\n",
      "        macro avg       0.24      0.50      0.33       143\n",
      "     weighted avg       0.24      0.49      0.32       143\n",
      "\n"
     ]
    },
    {
     "name": "stderr",
     "output_type": "stream",
     "text": [
      "C:\\Users\\sajee\\AppData\\Local\\Continuum\\anaconda3\\lib\\site-packages\\sklearn\\metrics\\classification.py:1143: UndefinedMetricWarning: Precision and F-score are ill-defined and being set to 0.0 in labels with no predicted samples.\n",
      "  'precision', 'predicted', average, warn_for)\n",
      "C:\\Users\\sajee\\AppData\\Local\\Continuum\\anaconda3\\lib\\site-packages\\sklearn\\metrics\\classification.py:1143: UndefinedMetricWarning: Precision and F-score are ill-defined and being set to 0.0 in labels with no predicted samples.\n",
      "  'precision', 'predicted', average, warn_for)\n",
      "C:\\Users\\sajee\\AppData\\Local\\Continuum\\anaconda3\\lib\\site-packages\\sklearn\\metrics\\classification.py:1143: UndefinedMetricWarning: Precision and F-score are ill-defined and being set to 0.0 in labels with no predicted samples.\n",
      "  'precision', 'predicted', average, warn_for)\n"
     ]
    }
   ],
   "source": [
    "#perform classification report of naive bayes model\n",
    "class_names = ['Class_2_Benign', 'Class_4_Malignant']\n",
    "bayes_report = classification_report(test_Y, y_pred_bayes, target_names=class_names)\n",
    "print(bayes_report)"
   ]
  },
  {
   "cell_type": "code",
   "execution_count": 28,
   "metadata": {},
   "outputs": [
    {
     "data": {
      "text/plain": [
       "array([[ 0, 73],\n",
       "       [ 0, 70]], dtype=int64)"
      ]
     },
     "execution_count": 28,
     "metadata": {},
     "output_type": "execute_result"
    }
   ],
   "source": [
    "#create confusion matrix\n",
    "confusion_matrix(test_Y, y_pred_bayes)"
   ]
  },
  {
   "cell_type": "markdown",
   "metadata": {},
   "source": [
    "### The Naive Bayes model does a poor job of predicting accurate class values.  According to the confusion matrix, the naive bayes model predicted just as many positives correctly, as it predicted negatives incorrectly.  This matches the AUC score of .5.  The ROC curve, AUC score, and the confusion matrix, combined tell us that this model was no better than just taking a random guess. \n",
    "### Naive Bayes gave a cross validated score of .5.  One reason for this could be, as we saw earlier, alot of our independent variables were highly correlated with one another.  An assumption of Naive Bayes to work properly is that the predictior variables have to be truly independent of each other.\n",
    "\n",
    "### I will next perform the main tree based algorithm models, such as The Decision Tree, Random Forest, and MLP models, and give a short analysis after each model."
   ]
  },
  {
   "cell_type": "code",
   "execution_count": 29,
   "metadata": {},
   "outputs": [
    {
     "name": "stdout",
     "output_type": "stream",
     "text": [
      "Accuracy score: 0.9300699300699301\n",
      "\n",
      "Duration: 0:00:00\n",
      "\n",
      "[0.5 0.5 0.5 0.5 0.5]\n",
      "Average cross validated score from our Naive Bayes model is: 0.5\n"
     ]
    }
   ],
   "source": [
    "#Naive Bayes model using PCA\n",
    "\n",
    "# Instantiate our model and store it in a variable\n",
    "bnb_pca = BernoulliNB()\n",
    "\n",
    "#set start time\n",
    "start_time_pca = datetime.datetime.now()\n",
    "\n",
    "# Fit our model to the data.\n",
    "bnb_pca.fit(train_X_pca, train_Y_pca)\n",
    "\n",
    "# Classify, storing the result in a new variable.\n",
    "ypred_bayes_pca = bnb_pca.predict(test_X_pca)\n",
    "\n",
    "#Run accuracy score\n",
    "print('Accuracy score: ' + str(metrics.accuracy_score(test_Y_pca, ypred_bayes_pca)))\n",
    "\n",
    "#calculate end time\n",
    "end_time_pca = datetime.datetime.now()\n",
    "\n",
    "#print the execution run time for our model\n",
    "print('\\nDuration: {}'.format(end_time_pca - start_time_pca))\n",
    "print()\n",
    "\n",
    "#Use cross validation to gauge the accuracy of our model\n",
    "Nbayes_cvs_pca = cross_val_score(bnb_pca, X, Y, cv=5, scoring='accuracy')\n",
    "print(Nbayes_cvs_pca)\n",
    "print('Average cross validated score from our Naive Bayes model is: ' + str(np.mean(Nbayes_cvs_pca)))\n"
   ]
  },
  {
   "cell_type": "markdown",
   "metadata": {},
   "source": [
    "### The Accuracy score of Naive Bayes improved dramatically using PCA, possibly because PCA utilized the main components that explained the majority of the variance in the data, and in the process took out some of the unnecessary correlated columns.  But the average cross validated score was still a disappointing .5, suggesting there might be overfitting"
   ]
  },
  {
   "cell_type": "code",
   "execution_count": 30,
   "metadata": {},
   "outputs": [
    {
     "name": "stdout",
     "output_type": "stream",
     "text": [
      "AUC Score: 0.965\n"
     ]
    },
    {
     "data": {
      "image/png": "[encoded data removed]",
      "text/plain": [
       "<Figure size 432x288 with 1 Axes>"
      ]
     },
     "metadata": {
      "needs_background": "light"
     },
     "output_type": "display_data"
    }
   ],
   "source": [
    "# predict probabilities\n",
    "probs_pca = bnb_pca.predict_proba(test_X_pca)\n",
    "# keep probabilities for the positive outcome only\n",
    "probs_pca = probs_pca[:, 1]\n",
    "# calculate AUC\n",
    "bayes_auc_pca = roc_auc_score(test_Y_pca, probs_pca)\n",
    "print('AUC Score: %.3f' % bayes_auc_pca)\n",
    "# calculate roc curve\n",
    "fpr_pca, tpr_pca, thresholds = roc_curve(test_Y_pca, probs_pca)\n",
    "# plot no skill\n",
    "plt.plot([0, 1], [0, 1], linestyle='--')\n",
    "# plot the roc curve for the model\n",
    "plt.plot(fpr_pca, tpr_pca, marker='.')\n",
    "# show the plot\n",
    "plt.show()"
   ]
  },
  {
   "cell_type": "code",
   "execution_count": 31,
   "metadata": {},
   "outputs": [
    {
     "name": "stdout",
     "output_type": "stream",
     "text": [
      "                   precision    recall  f1-score   support\n",
      "\n",
      "   Class_2_Benign       0.96      0.90      0.93        72\n",
      "Class_4_Malignant       0.91      0.96      0.93        71\n",
      "\n",
      "        micro avg       0.93      0.93      0.93       143\n",
      "        macro avg       0.93      0.93      0.93       143\n",
      "     weighted avg       0.93      0.93      0.93       143\n",
      "\n"
     ]
    }
   ],
   "source": [
    "#perform classification report of naive bayes model after PCA\n",
    "class_names = ['Class_2_Benign', 'Class_4_Malignant']\n",
    "bayes_report_pca = classification_report(test_Y_pca, ypred_bayes_pca, target_names=class_names)\n",
    "print(bayes_report_pca)"
   ]
  },
  {
   "cell_type": "code",
   "execution_count": 32,
   "metadata": {},
   "outputs": [
    {
     "data": {
      "text/plain": [
       "array([[65,  7],\n",
       "       [ 3, 68]], dtype=int64)"
      ]
     },
     "execution_count": 32,
     "metadata": {},
     "output_type": "execute_result"
    }
   ],
   "source": [
    "#create confusion matrix for naive bayes model after pca\n",
    "confusion_matrix(test_Y_pca, ypred_bayes_pca)"
   ]
  },
  {
   "cell_type": "code",
   "execution_count": 33,
   "metadata": {},
   "outputs": [
    {
     "name": "stdout",
     "output_type": "stream",
     "text": [
      "Accuracy score: 0.4965034965034965\n",
      "\n",
      "Duration: 0:00:00.005266\n",
      "\n",
      "[0.5 0.5 0.5 0.5 0.5]\n",
      "Average cross validated score from our Naive Bayes model is: 0.5\n"
     ]
    }
   ],
   "source": [
    "#Naive Bayes model using SelectKbest\n",
    "\n",
    "# Instantiate our model and store it in a variable\n",
    "bnb_skb = BernoulliNB()\n",
    "\n",
    "#set start time\n",
    "start_time_skb = datetime.datetime.now()\n",
    "\n",
    "# Fit our model to the data.\n",
    "bnb_skb.fit(train_X_skb, train_Y_skb)\n",
    "\n",
    "# Classify, storing the result in a new variable.\n",
    "ypred_bayes_skb = bnb_skb.predict(test_X_skb)\n",
    "\n",
    "#Run accuracy score\n",
    "print('Accuracy score: ' + str(metrics.accuracy_score(test_Y_skb, ypred_bayes_skb)))\n",
    "\n",
    "#calculate end time\n",
    "end_time_skb = datetime.datetime.now()\n",
    "\n",
    "#print the execution run time for our model\n",
    "print('\\nDuration: {}'.format(end_time_skb - start_time_skb))\n",
    "print()\n",
    "\n",
    "#Use cross validation to gauge the accuracy of our model\n",
    "Nbayes_cvs_skb = cross_val_score(bnb_skb, X, Y, cv=5, scoring='accuracy')\n",
    "print(Nbayes_cvs_skb)\n",
    "print('Average cross validated score from our Naive Bayes model is: ' + str(np.mean(Nbayes_cvs_skb)))\n"
   ]
  },
  {
   "cell_type": "code",
   "execution_count": 34,
   "metadata": {},
   "outputs": [
    {
     "name": "stdout",
     "output_type": "stream",
     "text": [
      "AUC Score: 0.500\n"
     ]
    },
    {
     "data": {
      "image/png": "[encoded data removed]",
      "text/plain": [
       "<Figure size 432x288 with 1 Axes>"
      ]
     },
     "metadata": {
      "needs_background": "light"
     },
     "output_type": "display_data"
    }
   ],
   "source": [
    "# predict probabilities\n",
    "probs_skb = bnb_skb.predict_proba(test_X_skb)\n",
    "# keep probabilities for the positive outcome only\n",
    "probs_skb = probs_skb[:, 1]\n",
    "# calculate AUC\n",
    "bayes_auc_skb = roc_auc_score(test_Y_skb, probs_skb)\n",
    "print('AUC Score: %.3f' % bayes_auc_skb)\n",
    "# calculate roc curve\n",
    "fpr_skb, tpr_skb, thresholds = roc_curve(test_Y_skb, probs_skb)\n",
    "# plot no skill\n",
    "plt.plot([0, 1], [0, 1], linestyle='--')\n",
    "# plot the roc curve for the model\n",
    "plt.plot(fpr_skb, tpr_skb, marker='.')\n",
    "# show the plot\n",
    "plt.show()"
   ]
  },
  {
   "cell_type": "code",
   "execution_count": 35,
   "metadata": {},
   "outputs": [
    {
     "name": "stdout",
     "output_type": "stream",
     "text": [
      "                   precision    recall  f1-score   support\n",
      "\n",
      "   Class_2_Benign       0.00      0.00      0.00        72\n",
      "Class_4_Malignant       0.50      1.00      0.66        71\n",
      "\n",
      "        micro avg       0.50      0.50      0.50       143\n",
      "        macro avg       0.25      0.50      0.33       143\n",
      "     weighted avg       0.25      0.50      0.33       143\n",
      "\n"
     ]
    },
    {
     "name": "stderr",
     "output_type": "stream",
     "text": [
      "C:\\Users\\sajee\\AppData\\Local\\Continuum\\anaconda3\\lib\\site-packages\\sklearn\\metrics\\classification.py:1143: UndefinedMetricWarning: Precision and F-score are ill-defined and being set to 0.0 in labels with no predicted samples.\n",
      "  'precision', 'predicted', average, warn_for)\n",
      "C:\\Users\\sajee\\AppData\\Local\\Continuum\\anaconda3\\lib\\site-packages\\sklearn\\metrics\\classification.py:1143: UndefinedMetricWarning: Precision and F-score are ill-defined and being set to 0.0 in labels with no predicted samples.\n",
      "  'precision', 'predicted', average, warn_for)\n",
      "C:\\Users\\sajee\\AppData\\Local\\Continuum\\anaconda3\\lib\\site-packages\\sklearn\\metrics\\classification.py:1143: UndefinedMetricWarning: Precision and F-score are ill-defined and being set to 0.0 in labels with no predicted samples.\n",
      "  'precision', 'predicted', average, warn_for)\n"
     ]
    }
   ],
   "source": [
    "#perform classification report of naive bayes model after PCA\n",
    "class_names = ['Class_2_Benign', 'Class_4_Malignant']\n",
    "bayes_report_skb = classification_report(test_Y_skb, ypred_bayes_skb, target_names=class_names)\n",
    "print(bayes_report_skb)"
   ]
  },
  {
   "cell_type": "code",
   "execution_count": 36,
   "metadata": {},
   "outputs": [
    {
     "data": {
      "text/plain": [
       "array([[ 0, 72],\n",
       "       [ 0, 71]], dtype=int64)"
      ]
     },
     "execution_count": 36,
     "metadata": {},
     "output_type": "execute_result"
    }
   ],
   "source": [
    "#create confusion matrix for naive bayes model after selectKbest\n",
    "confusion_matrix(test_Y_skb, ypred_bayes_skb)"
   ]
  },
  {
   "cell_type": "markdown",
   "metadata": {},
   "source": [
    "# Decision Tree"
   ]
  },
  {
   "cell_type": "code",
   "execution_count": 37,
   "metadata": {},
   "outputs": [
    {
     "name": "stdout",
     "output_type": "stream",
     "text": [
      "Best parameters for decision tree: {'criterion': 'entropy', 'max_depth': 4, 'max_features': 2, 'min_samples_split': 2}\n"
     ]
    },
    {
     "name": "stderr",
     "output_type": "stream",
     "text": [
      "C:\\Users\\sajee\\AppData\\Local\\Continuum\\anaconda3\\lib\\site-packages\\sklearn\\model_selection\\_search.py:841: DeprecationWarning: The default of the `iid` parameter will change from True to False in version 0.22 and will be removed in 0.24. This will change numeric results when test-set sizes are unequal.\n",
      "  DeprecationWarning)\n"
     ]
    }
   ],
   "source": [
    "# perform grid search to find the optimal parameters for our decision tree model, using the full dataset.\n",
    "dtree = tree.DecisionTreeClassifier(random_state=2)\n",
    "tree_param_grid = {'max_depth':[2,4,6], 'min_samples_split':[2,5,8], 'max_features':[2,4,6], 'criterion':['entropy', 'gini']}\n",
    "dtree_grid = GridSearchCV(dtree, tree_param_grid, cv=5)\n",
    "dtree_grid.fit(train_X, train_Y)\n",
    "print('Best parameters for decision tree:', dtree_grid.best_params_)"
   ]
  },
  {
   "cell_type": "code",
   "execution_count": 38,
   "metadata": {},
   "outputs": [
    {
     "name": "stdout",
     "output_type": "stream",
     "text": [
      "Accuracy score for decision tree Model: 0.9440559440559441\n",
      "\n",
      "Duration: 0:00:00.005630\n",
      "\n",
      "[0.91666667 0.9375     0.95833333 0.9787234  0.94680851]\n",
      "Average cross validated score from our decision tree model is: 0.9476063829787235\n"
     ]
    }
   ],
   "source": [
    "# Initialize and train our tree on the full dataset.\n",
    "decision_tree = tree.DecisionTreeClassifier(\n",
    "    criterion='gini',\n",
    "    max_features=4,\n",
    "    max_depth=4,\n",
    "    min_samples_split=5,\n",
    "    random_state = 2\n",
    ")\n",
    "\n",
    "#set start time\n",
    "start_time_tree = datetime.datetime.now()\n",
    "\n",
    "#train our tree\n",
    "decision_tree.fit(train_X, train_Y)\n",
    "\n",
    "# Classify, storing the result in a new variable.\n",
    "y_pred_dtree = decision_tree.predict(test_X)\n",
    "\n",
    "#get accuracy score from our model\n",
    "print('Accuracy score for decision tree Model: ' + str(metrics.accuracy_score(test_Y, y_pred_dtree)))\n",
    "\n",
    "#calculate end time\n",
    "end_time_tree = datetime.datetime.now()\n",
    "\n",
    "#print the execution run time for our model\n",
    "print('\\nDuration: {}'.format(end_time_tree - start_time_tree))\n",
    "print()\n",
    "\n",
    "#get accuracy score of decision tree\n",
    "tree_score = cross_val_score(decision_tree, X, Y, cv=5, scoring='accuracy')\n",
    "print(tree_score)\n",
    "print('Average cross validated score from our decision tree model is: ' + str(np.mean(tree_score)))"
   ]
  },
  {
   "cell_type": "code",
   "execution_count": 39,
   "metadata": {},
   "outputs": [
    {
     "name": "stdout",
     "output_type": "stream",
     "text": [
      "AUC Score: 0.973\n"
     ]
    },
    {
     "data": {
      "image/png": "[encoded data removed]",
      "text/plain": [
       "<Figure size 432x288 with 1 Axes>"
      ]
     },
     "metadata": {
      "needs_background": "light"
     },
     "output_type": "display_data"
    }
   ],
   "source": [
    "#Get AUC and create ROC for decision tree with full data\n",
    "# predict probabilities\n",
    "probs_dtree = decision_tree.predict_proba(test_X)\n",
    "# keep probabilities for the positive outcome only\n",
    "probs_dtree = probs_dtree[:, 1]\n",
    "# calculate AUC\n",
    "dtree_auc = roc_auc_score(test_Y, probs_dtree)\n",
    "print('AUC Score: %.3f' % dtree_auc)\n",
    "# calculate roc curve\n",
    "fpr_dtree, tpr_dtree, thresholds_dtree = roc_curve(test_Y, probs_dtree)\n",
    "# plot no skill\n",
    "plt.plot([0, 1], [0, 1], linestyle='--')\n",
    "# plot the roc curve for the model\n",
    "plt.plot(fpr_dtree, tpr_dtree, marker='.')\n",
    "# show the plot\n",
    "plt.show()"
   ]
  },
  {
   "cell_type": "code",
   "execution_count": 40,
   "metadata": {},
   "outputs": [
    {
     "name": "stdout",
     "output_type": "stream",
     "text": [
      "                   precision    recall  f1-score   support\n",
      "\n",
      "   Class_2_Benign       0.95      0.95      0.95        73\n",
      "Class_4_Malignant       0.94      0.94      0.94        70\n",
      "\n",
      "        micro avg       0.94      0.94      0.94       143\n",
      "        macro avg       0.94      0.94      0.94       143\n",
      "     weighted avg       0.94      0.94      0.94       143\n",
      "\n"
     ]
    }
   ],
   "source": [
    "#perform classification report of naive bayes model after PCA\n",
    "class_names = ['Class_2_Benign', 'Class_4_Malignant']\n",
    "tree_report = classification_report(test_Y, y_pred_dtree, target_names=class_names)\n",
    "print(tree_report)"
   ]
  },
  {
   "cell_type": "code",
   "execution_count": 41,
   "metadata": {},
   "outputs": [
    {
     "data": {
      "text/plain": [
       "array([[69,  4],\n",
       "       [ 4, 66]], dtype=int64)"
      ]
     },
     "execution_count": 41,
     "metadata": {},
     "output_type": "execute_result"
    }
   ],
   "source": [
    "#create confusion matrix for naive bayes model after selectKbest\n",
    "confusion_matrix(test_Y, y_pred_dtree)"
   ]
  },
  {
   "cell_type": "code",
   "execution_count": 42,
   "metadata": {},
   "outputs": [
    {
     "name": "stdout",
     "output_type": "stream",
     "text": [
      "Best parameters for decision tree: {'criterion': 'entropy', 'max_depth': 2, 'max_features': 2, 'min_samples_split': 2}\n"
     ]
    },
    {
     "name": "stderr",
     "output_type": "stream",
     "text": [
      "C:\\Users\\sajee\\AppData\\Local\\Continuum\\anaconda3\\lib\\site-packages\\sklearn\\model_selection\\_search.py:841: DeprecationWarning: The default of the `iid` parameter will change from True to False in version 0.22 and will be removed in 0.24. This will change numeric results when test-set sizes are unequal.\n",
      "  DeprecationWarning)\n"
     ]
    }
   ],
   "source": [
    "#GridsearchCV with PCA\n",
    "dtree_pca = tree.DecisionTreeClassifier(random_state=4)\n",
    "tree_param_grid_pca = {'max_depth':[2,4,6,8], 'min_samples_split':[2,5,8,10], 'max_features':[2,4,6], \n",
    "                       'criterion':['entropy', 'gini']}\n",
    "dtree_grid_pca = GridSearchCV(dtree_pca, tree_param_grid_pca, cv=5)\n",
    "dtree_grid_pca.fit(train_X_pca, train_Y_pca)\n",
    "print('Best parameters for decision tree:', dtree_grid_pca.best_params_)"
   ]
  },
  {
   "cell_type": "code",
   "execution_count": 43,
   "metadata": {},
   "outputs": [
    {
     "name": "stdout",
     "output_type": "stream",
     "text": [
      "Accuracy score for decision tree Model after using PCA: 0.958041958041958\n",
      "\n",
      "Duration: 0:00:00.002434\n",
      "\n",
      "[0.89583333 0.91666667 0.90625    0.9893617  0.91489362]\n",
      "Average cross validated score from our decision tree model is: 0.9246010638297874\n"
     ]
    }
   ],
   "source": [
    "# Initialize and train the tree using PCA.\n",
    "decision_tree_pca = tree.DecisionTreeClassifier(\n",
    "    criterion='entropy',\n",
    "    max_features=2,\n",
    "    max_depth=2,\n",
    "    min_samples_split=2,\n",
    "    random_state = 4\n",
    ")\n",
    "\n",
    "#set start time\n",
    "start_time_treePca = datetime.datetime.now()\n",
    "\n",
    "#train our tree\n",
    "decision_tree_pca.fit(train_X_pca, train_Y_pca)\n",
    "\n",
    "# Classify, storing the result in a new variable.\n",
    "ypred_dtree_pca = decision_tree_pca.predict(test_X_pca)\n",
    "\n",
    "#get accuracy score from our model\n",
    "print('Accuracy score for decision tree Model after using PCA: ' + str(metrics.accuracy_score(test_Y_pca, ypred_dtree_pca)))\n",
    "\n",
    "#calculate end time\n",
    "end_time_treePca = datetime.datetime.now()\n",
    "\n",
    "#print the execution run time for our model\n",
    "print('\\nDuration: {}'.format(end_time_treePca - start_time_treePca))\n",
    "print()\n",
    "\n",
    "#get accuracy score of decision tree\n",
    "tree_score_pca = cross_val_score(decision_tree_pca, X, Y, cv=5, scoring='accuracy')\n",
    "print(tree_score_pca)\n",
    "print('Average cross validated score from our decision tree model is: ' + str(np.mean(tree_score_pca)))"
   ]
  },
  {
   "cell_type": "code",
   "execution_count": 44,
   "metadata": {},
   "outputs": [
    {
     "name": "stdout",
     "output_type": "stream",
     "text": [
      "AUC Score: 0.968\n"
     ]
    },
    {
     "data": {
      "image/png": "[encoded data removed]",
      "text/plain": [
       "<Figure size 432x288 with 1 Axes>"
      ]
     },
     "metadata": {
      "needs_background": "light"
     },
     "output_type": "display_data"
    }
   ],
   "source": [
    "#Get AUC and create ROC for decision tree with PCA\n",
    "# predict probabilities\n",
    "probs_dtree_pca = decision_tree_pca.predict_proba(test_X_pca)\n",
    "# keep probabilities for the positive outcome only\n",
    "probs_dtree_pca = probs_dtree_pca[:, 1]\n",
    "# calculate AUC\n",
    "dtree_auc_pca = roc_auc_score(test_Y_pca, probs_dtree_pca)\n",
    "print('AUC Score: %.3f' % dtree_auc_pca)\n",
    "# calculate roc curve\n",
    "fpr_dtree_pca, tpr_dtree_pca, thresholds_dtree_pca = roc_curve(test_Y_pca, probs_dtree_pca)\n",
    "# plot no skill\n",
    "plt.plot([0, 1], [0, 1], linestyle='--')\n",
    "# plot the roc curve for the model\n",
    "plt.plot(fpr_dtree_pca, tpr_dtree_pca, marker='.')\n",
    "# show the plot\n",
    "plt.show()"
   ]
  },
  {
   "cell_type": "code",
   "execution_count": 45,
   "metadata": {},
   "outputs": [
    {
     "name": "stdout",
     "output_type": "stream",
     "text": [
      "                   precision    recall  f1-score   support\n",
      "\n",
      "   Class_2_Benign       0.99      0.93      0.96        72\n",
      "Class_4_Malignant       0.93      0.99      0.96        71\n",
      "\n",
      "        micro avg       0.96      0.96      0.96       143\n",
      "        macro avg       0.96      0.96      0.96       143\n",
      "     weighted avg       0.96      0.96      0.96       143\n",
      "\n"
     ]
    }
   ],
   "source": [
    "#perform classification report of naive bayes model after PCA\n",
    "class_names = ['Class_2_Benign', 'Class_4_Malignant']\n",
    "tree_report_pca = classification_report(test_Y_pca, ypred_dtree_pca, target_names=class_names)\n",
    "print(tree_report_pca)"
   ]
  },
  {
   "cell_type": "code",
   "execution_count": 46,
   "metadata": {},
   "outputs": [
    {
     "data": {
      "text/plain": [
       "array([[67,  5],\n",
       "       [ 1, 70]], dtype=int64)"
      ]
     },
     "execution_count": 46,
     "metadata": {},
     "output_type": "execute_result"
    }
   ],
   "source": [
    "#create confusion matrix for naive bayes model after PCA\n",
    "confusion_matrix(test_Y_pca, ypred_dtree_pca)"
   ]
  },
  {
   "cell_type": "code",
   "execution_count": 47,
   "metadata": {},
   "outputs": [
    {
     "name": "stdout",
     "output_type": "stream",
     "text": [
      "Best parameters for decision tree: {'criterion': 'gini', 'max_depth': 6, 'max_features': 2, 'min_samples_split': 10}\n"
     ]
    },
    {
     "name": "stderr",
     "output_type": "stream",
     "text": [
      "C:\\Users\\sajee\\AppData\\Local\\Continuum\\anaconda3\\lib\\site-packages\\sklearn\\model_selection\\_search.py:841: DeprecationWarning: The default of the `iid` parameter will change from True to False in version 0.22 and will be removed in 0.24. This will change numeric results when test-set sizes are unequal.\n",
      "  DeprecationWarning)\n"
     ]
    }
   ],
   "source": [
    "#GridsearchCV with selectkbest\n",
    "\n",
    "dtree_skb = tree.DecisionTreeClassifier(random_state=6)\n",
    "tree_param_grid_skb = {'max_depth':[2,4,6,8], 'min_samples_split':[2,5,8,10], 'max_features':[2,4,6], \n",
    "                       'criterion':['entropy', 'gini']}\n",
    "dtree_grid_skb = GridSearchCV(dtree_skb, tree_param_grid_skb, cv=5)\n",
    "dtree_grid_skb.fit(train_X_skb, train_Y_skb)\n",
    "print('Best parameters for decision tree:', dtree_grid_skb.best_params_)"
   ]
  },
  {
   "cell_type": "code",
   "execution_count": 48,
   "metadata": {},
   "outputs": [
    {
     "name": "stdout",
     "output_type": "stream",
     "text": [
      "Accuracy score for decision tree Model with SelectKBest: 0.45454545454545453\n",
      "\n",
      "Duration: 0:00:00.002331\n",
      "\n",
      "[0.875      0.91666667 0.92708333 0.9787234  0.91489362]\n",
      "Average cross validated score from our decision tree model is: 0.9224734042553191\n"
     ]
    }
   ],
   "source": [
    "# Initialize and train the tree using SelectKBest.\n",
    "decision_tree_skb = tree.DecisionTreeClassifier(\n",
    "    criterion='gini',\n",
    "    max_features=2,\n",
    "    max_depth=6,\n",
    "    min_samples_split=8,\n",
    "    random_state = 6\n",
    ")\n",
    "\n",
    "#set start time\n",
    "start_time_treeSkb = datetime.datetime.now()\n",
    "\n",
    "#train our tree\n",
    "decision_tree_skb.fit(train_X_skb, train_Y_skb)\n",
    "\n",
    "# Classify, storing the result in a new variable.\n",
    "ypred_dtree_skb = decision_tree_skb.predict(test_X_skb)\n",
    "\n",
    "#get accuracy score from our model\n",
    "print('Accuracy score for decision tree Model with SelectKBest: ' + str(metrics.accuracy_score(test_Y, ypred_dtree_skb)))\n",
    "\n",
    "#calculate end time\n",
    "end_time_treeSkb = datetime.datetime.now()\n",
    "\n",
    "#print the execution run time for our model\n",
    "print('\\nDuration: {}'.format(end_time_treeSkb - start_time_treeSkb))\n",
    "print()\n",
    "\n",
    "#get accuracy score of decision tree\n",
    "tree_score_skb = cross_val_score(decision_tree_skb, X, Y, cv=5, scoring='accuracy')\n",
    "print(tree_score_skb)\n",
    "print('Average cross validated score from our decision tree model is: ' + str(np.mean(tree_score_skb)))"
   ]
  },
  {
   "cell_type": "code",
   "execution_count": 49,
   "metadata": {},
   "outputs": [
    {
     "name": "stdout",
     "output_type": "stream",
     "text": [
      "AUC Score: 0.970\n"
     ]
    },
    {
     "data": {
      "image/png": "[encoded data removed]",
      "text/plain": [
       "<Figure size 432x288 with 1 Axes>"
      ]
     },
     "metadata": {
      "needs_background": "light"
     },
     "output_type": "display_data"
    },
    {
     "name": "stdout",
     "output_type": "stream",
     "text": [
      "                   precision    recall  f1-score   support\n",
      "\n",
      "   Class_2_Benign       0.96      0.94      0.95        72\n",
      "Class_4_Malignant       0.94      0.96      0.95        71\n",
      "\n",
      "        micro avg       0.95      0.95      0.95       143\n",
      "        macro avg       0.95      0.95      0.95       143\n",
      "     weighted avg       0.95      0.95      0.95       143\n",
      "\n",
      "Confusion Matrix:\n"
     ]
    },
    {
     "data": {
      "text/plain": [
       "array([[68,  4],\n",
       "       [ 3, 68]], dtype=int64)"
      ]
     },
     "execution_count": 49,
     "metadata": {},
     "output_type": "execute_result"
    }
   ],
   "source": [
    "#Get AUC and create ROC for decision tree with SelectKBest\n",
    "# predict probabilities\n",
    "probs_dtree_skb = decision_tree_skb.predict_proba(test_X_skb)\n",
    "# keep probabilities for the positive outcome only\n",
    "probs_dtree_skb = probs_dtree_skb[:, 1]\n",
    "# calculate AUC\n",
    "dtree_auc_skb = roc_auc_score(test_Y_skb, probs_dtree_skb)\n",
    "print('AUC Score: %.3f' % dtree_auc_skb)\n",
    "# calculate roc curve\n",
    "fpr_dtree_skb, tpr_dtree_skb, thresholds_dtree_skb = roc_curve(test_Y_skb, probs_dtree_skb)\n",
    "# plot no skill\n",
    "plt.plot([0, 1], [0, 1], linestyle='--')\n",
    "# plot the roc curve for the model\n",
    "plt.plot(fpr_dtree_skb, tpr_dtree_skb, marker='.')\n",
    "# show the plot\n",
    "plt.show()\n",
    "\n",
    "#perform classification report of naive bayes model after PCA\n",
    "class_names = ['Class_2_Benign', 'Class_4_Malignant']\n",
    "tree_report_skb = classification_report(test_Y_skb, ypred_dtree_skb, target_names=class_names)\n",
    "print(tree_report_skb)\n",
    "\n",
    "#create confusion matrix for naive bayes model after selectKbest\n",
    "print('Confusion Matrix:')\n",
    "confusion_matrix(test_Y_skb, ypred_dtree_skb)\n"
   ]
  },
  {
   "cell_type": "markdown",
   "metadata": {},
   "source": [
    "### The Decision Tree model performed alot better than the the Naive Bayes Model.  The cross validated scores for the three types of decision tree models that we built (using full data, using PCA, and using SelectKBest)  all were in the range of 93-95%.  This could be due to the fact that the decision tree model, along with the other tree based algorithms such as random forest and gradient boosting, work well with independent variables that have a dependence with, or are correlated with, each other.\n",
    "\n",
    "### Tree based algorithms also work well with data in which the predictor (independent) variables don't have a linear relationship with the output (dependent) variables; as is the case with our dataset here."
   ]
  },
  {
   "cell_type": "markdown",
   "metadata": {},
   "source": [
    "# Random Forest"
   ]
  },
  {
   "cell_type": "code",
   "execution_count": 51,
   "metadata": {},
   "outputs": [
    {
     "name": "stdout",
     "output_type": "stream",
     "text": [
      "Accuracy score for Random Forest Model: 0.9790209790209791\n",
      "\n",
      "Duration: 0:00:00.054982\n",
      "\n",
      "[0.96875    0.94791667 0.97916667 0.9893617  1.        ]\n",
      "Average cross validated score from our Random Forest Model is: 0.9770390070921986\n"
     ]
    }
   ],
   "source": [
    "#initialize and train our random forest model with full data.\n",
    "rand_forest = ensemble.RandomForestClassifier(n_estimators=50, criterion='entropy', max_depth=4, max_features=2,\n",
    "                                              min_samples_split=5, random_state=20)\n",
    "\n",
    "#set start time\n",
    "start_time_rforest = datetime.datetime.now()\n",
    "\n",
    "rand_forest.fit(train_X, train_Y)\n",
    "\n",
    "# Classify, storing the result in a new variable.\n",
    "y_pred_rforest = rand_forest.predict(test_X)\n",
    "\n",
    "#get accuracy score from our model\n",
    "print('Accuracy score for Random Forest Model: ' + str(metrics.accuracy_score(test_Y, y_pred_rforest)))\n",
    "\n",
    "#calculate end time\n",
    "end_time_rforest = datetime.datetime.now()\n",
    "\n",
    "#print the execution run time for our model\n",
    "print('\\nDuration: {}'.format(end_time_rforest - start_time_rforest))\n",
    "print()\n",
    "\n",
    "#get average accuracy score of our random forest through cross validation\n",
    "rforest_cvs = cross_val_score(rand_forest, X, Y, cv=5, scoring='accuracy')\n",
    "print(rforest_cvs)\n",
    "print('Average cross validated score from our Random Forest Model is: ' + str(np.mean(rforest_cvs)))"
   ]
  },
  {
   "cell_type": "code",
   "execution_count": 52,
   "metadata": {},
   "outputs": [
    {
     "name": "stdout",
     "output_type": "stream",
     "text": [
      "AUC Score: 0.995\n"
     ]
    },
    {
     "data": {
      "image/png": "[encoded data removed]",
      "text/plain": [
       "<Figure size 432x288 with 1 Axes>"
      ]
     },
     "metadata": {
      "needs_background": "light"
     },
     "output_type": "display_data"
    },
    {
     "name": "stdout",
     "output_type": "stream",
     "text": [
      "                   precision    recall  f1-score   support\n",
      "\n",
      "   Class_2_Benign       0.97      0.99      0.98        73\n",
      "Class_4_Malignant       0.99      0.97      0.98        70\n",
      "\n",
      "        micro avg       0.98      0.98      0.98       143\n",
      "        macro avg       0.98      0.98      0.98       143\n",
      "     weighted avg       0.98      0.98      0.98       143\n",
      "\n",
      "Confusion Matrix:\n"
     ]
    },
    {
     "data": {
      "text/plain": [
       "array([[72,  1],\n",
       "       [ 2, 68]], dtype=int64)"
      ]
     },
     "execution_count": 52,
     "metadata": {},
     "output_type": "execute_result"
    }
   ],
   "source": [
    "#Get AUC and create ROC for decision tree with full data\n",
    "# predict probabilities\n",
    "probs_rforest = rand_forest.predict_proba(test_X)\n",
    "# keep probabilities for the positive outcome only\n",
    "probs_rforest = probs_rforest[:, 1]\n",
    "# calculate AUC\n",
    "rforest_auc = roc_auc_score(test_Y, probs_rforest)\n",
    "print('AUC Score: %.3f' % rforest_auc)\n",
    "# calculate roc curve\n",
    "fpr_rforest, tpr_rforest, thresholds_rforest = roc_curve(test_Y, probs_rforest)\n",
    "# plot no skill\n",
    "plt.plot([0, 1], [0, 1], linestyle='--')\n",
    "# plot the roc curve for the model\n",
    "plt.plot(fpr_rforest, tpr_rforest, marker='.')\n",
    "# show the plot\n",
    "plt.show()\n",
    "\n",
    "#perform classification report of naive bayes model after PCA\n",
    "class_names = ['Class_2_Benign', 'Class_4_Malignant']\n",
    "rforest_report = classification_report(test_Y, y_pred_rforest, target_names=class_names)\n",
    "print(rforest_report)\n",
    "\n",
    "#create confusion matrix for naive bayes model after selectKbest\n",
    "print('Confusion Matrix:')\n",
    "confusion_matrix(test_Y, y_pred_rforest)"
   ]
  },
  {
   "cell_type": "code",
   "execution_count": null,
   "metadata": {},
   "outputs": [],
   "source": [
    "#using gridsearchcv with our random forest model and PCA\n",
    "# perform grid search to find the optimal parameters for our random forest model, using the full dataset.\n",
    "rforest_pca = ensemble.RandomForestClassifier(random_state=20)\n",
    "forest_param_grid_pca = {'n_estimators':[10,20,50,100], 'max_depth':[2,4,6,8], 'min_samples_split':[2,5,8,10], \n",
    "                     'max_features':[2,4,6,7], 'criterion':['entropy', 'gini']}\n",
    "rforest_grid_pca = GridSearchCV(rforest_pca, forest_param_grid_pca, cv=5)\n",
    "rforest_grid_pca.fit(train_X_pca, train_Y_pca)\n",
    "print('Best parameters for decision tree:', rforest_grid_pca.best_params_)"
   ]
  },
  {
   "cell_type": "code",
   "execution_count": 53,
   "metadata": {},
   "outputs": [
    {
     "name": "stdout",
     "output_type": "stream",
     "text": [
      "Accuracy score for Random Forest Model using PCA is: 0.958041958041958\n",
      "\n",
      "Duration: 0:00:00.010786\n",
      "\n",
      "[0.95833333 0.9375     0.96875    0.9893617  0.9893617 ]\n",
      "Average cross validated score from our Random Forest Model using PCA is: 0.9686613475177305\n"
     ]
    }
   ],
   "source": [
    "#initialize and train our random forest model with pca\n",
    "rand_forest_pca = ensemble.RandomForestClassifier(n_estimators=10, criterion='entropy', max_depth=2, max_features=2,\n",
    "                                              min_samples_split=2, random_state=20)\n",
    "\n",
    "#set start time\n",
    "start_time_rforest_pca = datetime.datetime.now()\n",
    "\n",
    "rand_forest_pca.fit(train_X_pca, train_Y_pca)\n",
    "\n",
    "# Classify, storing the result in a new variable.\n",
    "ypred_rforest_pca = rand_forest_pca.predict(test_X_pca)\n",
    "\n",
    "#get accuracy score from our model\n",
    "print('Accuracy score for Random Forest Model using PCA is: ' + str(metrics.accuracy_score(test_Y_pca, ypred_rforest_pca)))\n",
    "\n",
    "#calculate end time\n",
    "end_time_rforest_pca = datetime.datetime.now()\n",
    "\n",
    "#print the execution run time for our model\n",
    "print('\\nDuration: {}'.format(end_time_rforest_pca - start_time_rforest_pca))\n",
    "print()\n",
    "\n",
    "#get average accuracy score of our random forest through cross validation\n",
    "rforest_cvs_pca = cross_val_score(rand_forest_pca, X, Y, cv=5, scoring='accuracy')\n",
    "print(rforest_cvs_pca)\n",
    "print('Average cross validated score from our Random Forest Model using PCA is: ' + str(np.mean(rforest_cvs_pca)))"
   ]
  },
  {
   "cell_type": "code",
   "execution_count": 54,
   "metadata": {},
   "outputs": [
    {
     "name": "stdout",
     "output_type": "stream",
     "text": [
      "AUC Score: 0.975\n"
     ]
    },
    {
     "data": {
      "image/png": "[encoded data removed]",
      "text/plain": [
       "<Figure size 432x288 with 1 Axes>"
      ]
     },
     "metadata": {
      "needs_background": "light"
     },
     "output_type": "display_data"
    },
    {
     "name": "stdout",
     "output_type": "stream",
     "text": [
      "                   precision    recall  f1-score   support\n",
      "\n",
      "   Class_2_Benign       0.99      0.93      0.96        72\n",
      "Class_4_Malignant       0.93      0.99      0.96        71\n",
      "\n",
      "        micro avg       0.96      0.96      0.96       143\n",
      "        macro avg       0.96      0.96      0.96       143\n",
      "     weighted avg       0.96      0.96      0.96       143\n",
      "\n",
      "Confusion Matrix:\n"
     ]
    },
    {
     "data": {
      "text/plain": [
       "array([[67,  5],\n",
       "       [ 1, 70]], dtype=int64)"
      ]
     },
     "execution_count": 54,
     "metadata": {},
     "output_type": "execute_result"
    }
   ],
   "source": [
    "#Get AUC and create ROC for random forest with PCA\n",
    "# predict probabilities\n",
    "probs_rforest_pca = rand_forest_pca.predict_proba(test_X_pca)\n",
    "# keep probabilities for the positive outcome only\n",
    "probs_rforest_pca = probs_rforest_pca[:, 1]\n",
    "# calculate AUC\n",
    "rforest_auc_pca = roc_auc_score(test_Y_pca, probs_rforest_pca)\n",
    "print('AUC Score: %.3f' % rforest_auc_pca)\n",
    "# calculate roc curve\n",
    "fpr_rforest_pca, tpr_rforest_pca, thresholds_rforest_pca = roc_curve(test_Y_pca, probs_rforest_pca)\n",
    "# plot no skill\n",
    "plt.plot([0, 1], [0, 1], linestyle='--')\n",
    "# plot the roc curve for the model\n",
    "plt.plot(fpr_rforest_pca, tpr_rforest_pca, marker='.')\n",
    "# show the plot\n",
    "plt.show()\n",
    "\n",
    "#perform classification report of naive bayes model after PCA\n",
    "class_names = ['Class_2_Benign', 'Class_4_Malignant']\n",
    "rforest_report_pca = classification_report(test_Y_pca, ypred_rforest_pca, target_names=class_names)\n",
    "print(rforest_report_pca)\n",
    "\n",
    "#create confusion matrix for naive bayes model after selectKbest\n",
    "print('Confusion Matrix:')\n",
    "confusion_matrix(test_Y_pca, ypred_rforest_pca)"
   ]
  },
  {
   "cell_type": "code",
   "execution_count": null,
   "metadata": {},
   "outputs": [],
   "source": [
    "#using gridsearchcv with our random forest model and selectKbest\n",
    "rforest_skb = ensemble.RandomForestClassifier(random_state=57)\n",
    "forest_param_grid_skb = {'n_estimators':[10,20,50,100], 'max_depth':[2,4,6,8], 'min_samples_split':[2,5,8,10], \n",
    "                     'max_features':[2,4,6], 'criterion':['entropy', 'gini']}\n",
    "rforest_grid_skb = GridSearchCV(rforest_skb, forest_param_grid_skb, cv=5)\n",
    "rforest_grid_skb.fit(train_X_skb, train_Y_skb)\n",
    "print('Best parameters for decision tree:', rforest_grid_skb.best_params_)"
   ]
  },
  {
   "cell_type": "code",
   "execution_count": 55,
   "metadata": {},
   "outputs": [
    {
     "name": "stdout",
     "output_type": "stream",
     "text": [
      "Accuracy score for Random Forest Model using SelectKBest is: 0.958041958041958\n",
      "\n",
      "Duration: 0:00:00.018212\n",
      "\n",
      "[0.94791667 0.9375     0.97916667 0.96808511 1.        ]\n",
      "Average cross validated score from our Random Forest Model using SelectKBest is: 0.9665336879432622\n"
     ]
    }
   ],
   "source": [
    "#initialize and train our random forest model with selectkbest\n",
    "rand_forest_skb = ensemble.RandomForestClassifier(n_estimators=20, criterion='entropy', max_depth=4, max_features=2,\n",
    "                                              min_samples_split=2, random_state=57)\n",
    "\n",
    "#set start time\n",
    "start_time_rforest_skb = datetime.datetime.now()\n",
    "\n",
    "rand_forest_skb.fit(train_X_skb, train_Y_skb)\n",
    "\n",
    "# Classify, storing the result in a new variable.\n",
    "ypred_rforest_skb = rand_forest_skb.predict(test_X_skb)\n",
    "\n",
    "#get accuracy score from our model\n",
    "print('Accuracy score for Random Forest Model using SelectKBest is: ' + str(metrics.accuracy_score(test_Y_pca, ypred_rforest_skb)))\n",
    "\n",
    "#calculate end time\n",
    "end_time_rforest_skb = datetime.datetime.now()\n",
    "\n",
    "#print the execution run time for our model\n",
    "print('\\nDuration: {}'.format(end_time_rforest_skb - start_time_rforest_skb))\n",
    "print()\n",
    "\n",
    "#get average accuracy score of our random forest through cross validation\n",
    "rforest_cvs_skb = cross_val_score(rand_forest_skb, X, Y, cv=5, scoring='accuracy')\n",
    "print(rforest_cvs_skb)\n",
    "print('Average cross validated score from our Random Forest Model using SelectKBest is: ' + str(np.mean(rforest_cvs_skb)))"
   ]
  },
  {
   "cell_type": "code",
   "execution_count": 56,
   "metadata": {},
   "outputs": [
    {
     "name": "stdout",
     "output_type": "stream",
     "text": [
      "AUC Score: 0.982\n"
     ]
    },
    {
     "data": {
      "image/png": "[encoded data removed]",
      "text/plain": [
       "<Figure size 432x288 with 1 Axes>"
      ]
     },
     "metadata": {
      "needs_background": "light"
     },
     "output_type": "display_data"
    },
    {
     "name": "stdout",
     "output_type": "stream",
     "text": [
      "                   precision    recall  f1-score   support\n",
      "\n",
      "   Class_2_Benign       0.99      0.93      0.96        72\n",
      "Class_4_Malignant       0.93      0.99      0.96        71\n",
      "\n",
      "        micro avg       0.96      0.96      0.96       143\n",
      "        macro avg       0.96      0.96      0.96       143\n",
      "     weighted avg       0.96      0.96      0.96       143\n",
      "\n",
      "Confusion Matrix:\n"
     ]
    },
    {
     "data": {
      "text/plain": [
       "array([[67,  5],\n",
       "       [ 1, 70]], dtype=int64)"
      ]
     },
     "execution_count": 56,
     "metadata": {},
     "output_type": "execute_result"
    }
   ],
   "source": [
    "#Get AUC and create ROC for random forest with SelectKBest\n",
    "# predict probabilities\n",
    "probs_rforest_skb = rand_forest_skb.predict_proba(test_X_skb)\n",
    "# keep probabilities for the positive outcome only\n",
    "probs_rforest_skb = probs_rforest_skb[:, 1]\n",
    "# calculate AUC\n",
    "rforest_auc_skb = roc_auc_score(test_Y_skb, probs_rforest_skb)\n",
    "print('AUC Score: %.3f' % rforest_auc_skb)\n",
    "# calculate roc curve\n",
    "fpr_rforest_skb, tpr_rforest_skb, thresholds_rforest_skb = roc_curve(test_Y_skb, probs_rforest_skb)\n",
    "# plot no skill\n",
    "plt.plot([0, 1], [0, 1], linestyle='--')\n",
    "# plot the roc curve for the model\n",
    "plt.plot(fpr_rforest_skb, tpr_rforest_skb, marker='.')\n",
    "# show the plot\n",
    "plt.show()\n",
    "\n",
    "#perform classification report of naive bayes model after PCA\n",
    "class_names = ['Class_2_Benign', 'Class_4_Malignant']\n",
    "rforest_report_skb = classification_report(test_Y_skb, ypred_rforest_skb, target_names=class_names)\n",
    "print(rforest_report_skb)\n",
    "\n",
    "#create confusion matrix for naive bayes model after selectKbest\n",
    "print('Confusion Matrix:')\n",
    "confusion_matrix(test_Y_skb, ypred_rforest_skb)"
   ]
  },
  {
   "cell_type": "markdown",
   "metadata": {},
   "source": [
    "### The Random Forest Models, as expected, worked even better than the Decision Tree models.  This is because Random Forests, being one of the major ensemble modeling alogorithms, create many decision trees that are each based on a different subset of the dataset.  Then The decision trees within the random forest vote on the final output, and the majority class wins.  This is called bagging, and the idea of this is that the combination of learning from many tree models (versus one in a regular decision tree algorithm) increases the overall result.\n",
    "\n",
    "### This could explain the higher average cross validated score of 98% from the random forest models, versus scores that fell in the range of 93-95% with the regular decision tree models."
   ]
  },
  {
   "cell_type": "markdown",
   "metadata": {},
   "source": [
    "## MLP Neural Network"
   ]
  },
  {
   "cell_type": "code",
   "execution_count": 57,
   "metadata": {},
   "outputs": [
    {
     "name": "stderr",
     "output_type": "stream",
     "text": [
      "C:\\Users\\sajee\\AppData\\Local\\Continuum\\anaconda3\\lib\\site-packages\\sklearn\\neural_network\\multilayer_perceptron.py:562: ConvergenceWarning: Stochastic Optimizer: Maximum iterations (200) reached and the optimization hasn't converged yet.\n",
      "  % self.max_iter, ConvergenceWarning)\n"
     ]
    },
    {
     "data": {
      "text/plain": [
       "MLPClassifier(activation='relu', alpha=0.0001, batch_size='auto', beta_1=0.9,\n",
       "       beta_2=0.999, early_stopping=False, epsilon=1e-08,\n",
       "       hidden_layer_sizes=(1000,), learning_rate='constant',\n",
       "       learning_rate_init=0.001, max_iter=200, momentum=0.9,\n",
       "       n_iter_no_change=10, nesterovs_momentum=True, power_t=0.5,\n",
       "       random_state=None, shuffle=True, solver='adam', tol=0.0001,\n",
       "       validation_fraction=0.1, verbose=False, warm_start=False)"
      ]
     },
     "execution_count": 57,
     "metadata": {},
     "output_type": "execute_result"
    }
   ],
   "source": [
    "# Import the model.\n",
    "from sklearn.neural_network import MLPClassifier\n",
    "\n",
    "# Establish and fit the model, with a single, 1000 perceptron layer.\n",
    "mlp = MLPClassifier(hidden_layer_sizes=(1000,))\n",
    "mlp.fit(train_X, train_Y)"
   ]
  },
  {
   "cell_type": "code",
   "execution_count": 58,
   "metadata": {},
   "outputs": [
    {
     "data": {
      "text/plain": [
       "0.965034965034965"
      ]
     },
     "execution_count": 58,
     "metadata": {},
     "output_type": "execute_result"
    }
   ],
   "source": [
    "#accuracy score for MLP model\n",
    "mlp.score(test_X, test_Y)"
   ]
  },
  {
   "cell_type": "code",
   "execution_count": 59,
   "metadata": {},
   "outputs": [
    {
     "name": "stderr",
     "output_type": "stream",
     "text": [
      "C:\\Users\\sajee\\AppData\\Local\\Continuum\\anaconda3\\lib\\site-packages\\sklearn\\neural_network\\multilayer_perceptron.py:562: ConvergenceWarning: Stochastic Optimizer: Maximum iterations (200) reached and the optimization hasn't converged yet.\n",
      "  % self.max_iter, ConvergenceWarning)\n",
      "C:\\Users\\sajee\\AppData\\Local\\Continuum\\anaconda3\\lib\\site-packages\\sklearn\\neural_network\\multilayer_perceptron.py:562: ConvergenceWarning: Stochastic Optimizer: Maximum iterations (200) reached and the optimization hasn't converged yet.\n",
      "  % self.max_iter, ConvergenceWarning)\n",
      "C:\\Users\\sajee\\AppData\\Local\\Continuum\\anaconda3\\lib\\site-packages\\sklearn\\neural_network\\multilayer_perceptron.py:562: ConvergenceWarning: Stochastic Optimizer: Maximum iterations (200) reached and the optimization hasn't converged yet.\n",
      "  % self.max_iter, ConvergenceWarning)\n",
      "C:\\Users\\sajee\\AppData\\Local\\Continuum\\anaconda3\\lib\\site-packages\\sklearn\\neural_network\\multilayer_perceptron.py:562: ConvergenceWarning: Stochastic Optimizer: Maximum iterations (200) reached and the optimization hasn't converged yet.\n",
      "  % self.max_iter, ConvergenceWarning)\n",
      "C:\\Users\\sajee\\AppData\\Local\\Continuum\\anaconda3\\lib\\site-packages\\sklearn\\neural_network\\multilayer_perceptron.py:562: ConvergenceWarning: Stochastic Optimizer: Maximum iterations (200) reached and the optimization hasn't converged yet.\n",
      "  % self.max_iter, ConvergenceWarning)\n"
     ]
    },
    {
     "data": {
      "text/plain": [
       "array([0.91666667, 0.94791667, 0.96875   , 0.9893617 , 0.9893617 ])"
      ]
     },
     "execution_count": 59,
     "metadata": {},
     "output_type": "execute_result"
    }
   ],
   "source": [
    "#cross valiating MLP model\n",
    "cross_val_score(mlp, X, Y, cv=5)"
   ]
  },
  {
   "cell_type": "markdown",
   "metadata": {},
   "source": [
    "# Conclusion"
   ]
  },
  {
   "cell_type": "markdown",
   "metadata": {},
   "source": [
    "For the particular dataset that we have here with its specfic issues, such as the correlation among the indepedent variables and the non-linear relationship between the independent and dependent variables, using one of the tree based models such as Random Forest is not a bad option.  Using Random Forest with the full data gave an accuracy score of about 97%.\n",
    "\n",
    "With the MLP, I also got an accuracy score of 97%.  Using cross validation with the MLP model gave a slight hint of overfitting, although most of the scores in the 94-98% range."
   ]
  }
 ],
 "metadata": {
  "kernelspec": {
   "display_name": "Python 3",
   "language": "python",
   "name": "python3"
  },
  "language_info": {
   "codemirror_mode": {
    "name": "ipython",
    "version": 3
   },
   "file_extension": ".py",
   "mimetype": "text/x-python",
   "name": "python",
   "nbconvert_exporter": "python",
   "pygments_lexer": "ipython3",
   "version": "3.7.1"
  }
 },
 "nbformat": 4,
 "nbformat_minor": 2
}
