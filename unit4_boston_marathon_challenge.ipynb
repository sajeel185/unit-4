{
 "cells": [
  {
   "cell_type": "code",
   "execution_count": 2,
   "metadata": {},
   "outputs": [],
   "source": [
    "import numpy as np\n",
    "import pandas as pd\n",
    "import scipy\n",
    "import matplotlib.pyplot as plt\n",
    "import seaborn as sns\n",
    "from sklearn.cluster import KMeans\n",
    "from sklearn.preprocessing import normalize\n",
    "from sklearn.decomposition import PCA\n",
    "from sklearn.cluster import MiniBatchKMeans\n",
    "%matplotlib inline"
   ]
  },
  {
   "cell_type": "code",
   "execution_count": 3,
   "metadata": {},
   "outputs": [
    {
     "data": {
      "text/html": [
       "<div>\n",
       "<style scoped>\n",
       "    .dataframe tbody tr th:only-of-type {\n",
       "        vertical-align: middle;\n",
       "    }\n",
       "\n",
       "    .dataframe tbody tr th {\n",
       "        vertical-align: top;\n",
       "    }\n",
       "\n",
       "    .dataframe thead th {\n",
       "        text-align: right;\n",
       "    }\n",
       "</style>\n",
       "<table border=\"1\" class=\"dataframe\">\n",
       "  <thead>\n",
       "    <tr style=\"text-align: right;\">\n",
       "      <th></th>\n",
       "      <th>25k</th>\n",
       "      <th>age</th>\n",
       "      <th>name</th>\n",
       "      <th>division</th>\n",
       "      <th>10k</th>\n",
       "      <th>gender</th>\n",
       "      <th>half</th>\n",
       "      <th>official</th>\n",
       "      <th>bib</th>\n",
       "      <th>ctz</th>\n",
       "      <th>...</th>\n",
       "      <th>overall</th>\n",
       "      <th>pace</th>\n",
       "      <th>state</th>\n",
       "      <th>30k</th>\n",
       "      <th>5k</th>\n",
       "      <th>genderdiv</th>\n",
       "      <th>20k</th>\n",
       "      <th>35k</th>\n",
       "      <th>city</th>\n",
       "      <th>40k</th>\n",
       "    </tr>\n",
       "  </thead>\n",
       "  <tbody>\n",
       "    <tr>\n",
       "      <th>0</th>\n",
       "      <td>49.87</td>\n",
       "      <td>28</td>\n",
       "      <td>Cassidy, Josh R.</td>\n",
       "      <td>9</td>\n",
       "      <td>18.18</td>\n",
       "      <td>M</td>\n",
       "      <td>40.93</td>\n",
       "      <td>90.90</td>\n",
       "      <td>W1</td>\n",
       "      <td>NaN</td>\n",
       "      <td>...</td>\n",
       "      <td>9</td>\n",
       "      <td>3.47</td>\n",
       "      <td>ON</td>\n",
       "      <td>62.07</td>\n",
       "      <td>8.90</td>\n",
       "      <td>9</td>\n",
       "      <td>38.80</td>\n",
       "      <td>74.73</td>\n",
       "      <td>Toronto</td>\n",
       "      <td>85.55</td>\n",
       "    </tr>\n",
       "    <tr>\n",
       "      <th>1</th>\n",
       "      <td>77.27</td>\n",
       "      <td>30</td>\n",
       "      <td>Korir, Wesley</td>\n",
       "      <td>5</td>\n",
       "      <td>30.90</td>\n",
       "      <td>M</td>\n",
       "      <td>64.90</td>\n",
       "      <td>132.50</td>\n",
       "      <td>1</td>\n",
       "      <td>NaN</td>\n",
       "      <td>...</td>\n",
       "      <td>5</td>\n",
       "      <td>5.07</td>\n",
       "      <td>NaN</td>\n",
       "      <td>92.97</td>\n",
       "      <td>15.90</td>\n",
       "      <td>5</td>\n",
       "      <td>61.52</td>\n",
       "      <td>108.78</td>\n",
       "      <td>Kenya</td>\n",
       "      <td>124.77</td>\n",
       "    </tr>\n",
       "    <tr>\n",
       "      <th>2</th>\n",
       "      <td>77.23</td>\n",
       "      <td>23</td>\n",
       "      <td>Desisa, Lelisa</td>\n",
       "      <td>1</td>\n",
       "      <td>30.90</td>\n",
       "      <td>M</td>\n",
       "      <td>64.92</td>\n",
       "      <td>130.37</td>\n",
       "      <td>2</td>\n",
       "      <td>NaN</td>\n",
       "      <td>...</td>\n",
       "      <td>1</td>\n",
       "      <td>4.98</td>\n",
       "      <td>NaN</td>\n",
       "      <td>92.72</td>\n",
       "      <td>15.93</td>\n",
       "      <td>1</td>\n",
       "      <td>61.53</td>\n",
       "      <td>108.68</td>\n",
       "      <td>Ambo</td>\n",
       "      <td>123.78</td>\n",
       "    </tr>\n",
       "    <tr>\n",
       "      <th>3</th>\n",
       "      <td>50.50</td>\n",
       "      <td>32</td>\n",
       "      <td>Fearnley, Kurt H.</td>\n",
       "      <td>5</td>\n",
       "      <td>18.73</td>\n",
       "      <td>M</td>\n",
       "      <td>42.00</td>\n",
       "      <td>88.43</td>\n",
       "      <td>W2</td>\n",
       "      <td>NaN</td>\n",
       "      <td>...</td>\n",
       "      <td>5</td>\n",
       "      <td>3.38</td>\n",
       "      <td>NaN</td>\n",
       "      <td>61.35</td>\n",
       "      <td>8.98</td>\n",
       "      <td>5</td>\n",
       "      <td>39.88</td>\n",
       "      <td>73.00</td>\n",
       "      <td>Hamilton</td>\n",
       "      <td>83.43</td>\n",
       "    </tr>\n",
       "    <tr>\n",
       "      <th>4</th>\n",
       "      <td>48.75</td>\n",
       "      <td>39</td>\n",
       "      <td>Hokinoue, Kota</td>\n",
       "      <td>3</td>\n",
       "      <td>18.18</td>\n",
       "      <td>M</td>\n",
       "      <td>40.57</td>\n",
       "      <td>87.22</td>\n",
       "      <td>W3</td>\n",
       "      <td>NaN</td>\n",
       "      <td>...</td>\n",
       "      <td>3</td>\n",
       "      <td>3.33</td>\n",
       "      <td>NaN</td>\n",
       "      <td>59.92</td>\n",
       "      <td>8.92</td>\n",
       "      <td>3</td>\n",
       "      <td>38.55</td>\n",
       "      <td>71.68</td>\n",
       "      <td>Iizuka</td>\n",
       "      <td>81.88</td>\n",
       "    </tr>\n",
       "  </tbody>\n",
       "</table>\n",
       "<p>5 rows × 21 columns</p>\n",
       "</div>"
      ],
      "text/plain": [
       "     25k  age               name  division    10k gender   half  official bib  \\\n",
       "0  49.87   28   Cassidy, Josh R.         9  18.18      M  40.93     90.90  W1   \n",
       "1  77.27   30      Korir, Wesley         5  30.90      M  64.90    132.50   1   \n",
       "2  77.23   23     Desisa, Lelisa         1  30.90      M  64.92    130.37   2   \n",
       "3  50.50   32  Fearnley, Kurt H.         5  18.73      M  42.00     88.43  W2   \n",
       "4  48.75   39     Hokinoue, Kota         3  18.18      M  40.57     87.22  W3   \n",
       "\n",
       "   ctz   ...   overall  pace  state    30k     5k genderdiv    20k     35k  \\\n",
       "0  NaN   ...         9  3.47     ON  62.07   8.90         9  38.80   74.73   \n",
       "1  NaN   ...         5  5.07    NaN  92.97  15.90         5  61.52  108.78   \n",
       "2  NaN   ...         1  4.98    NaN  92.72  15.93         1  61.53  108.68   \n",
       "3  NaN   ...         5  3.38    NaN  61.35   8.98         5  39.88   73.00   \n",
       "4  NaN   ...         3  3.33    NaN  59.92   8.92         3  38.55   71.68   \n",
       "\n",
       "       city     40k  \n",
       "0   Toronto   85.55  \n",
       "1     Kenya  124.77  \n",
       "2      Ambo  123.78  \n",
       "3  Hamilton   83.43  \n",
       "4    Iizuka   81.88  \n",
       "\n",
       "[5 rows x 21 columns]"
      ]
     },
     "execution_count": 3,
     "metadata": {},
     "output_type": "execute_result"
    }
   ],
   "source": [
    "df = pd.read_csv('boston_marathon_2013.csv')\n",
    "df = df.drop_duplicates()\n",
    "\n",
    "df.head()"
   ]
  },
  {
   "cell_type": "code",
   "execution_count": 4,
   "metadata": {},
   "outputs": [
    {
     "data": {
      "text/plain": [
       "Index(['25k', 'age', 'name', 'division', '10k', 'gender', 'half', 'official',\n",
       "       'bib', 'ctz', 'country', 'overall', 'pace', 'state', '30k', '5k',\n",
       "       'genderdiv', '20k', '35k', 'city', '40k'],\n",
       "      dtype='object')"
      ]
     },
     "execution_count": 4,
     "metadata": {},
     "output_type": "execute_result"
    }
   ],
   "source": [
    "#examining the columns of df\n",
    "df.columns"
   ]
  },
  {
   "cell_type": "code",
   "execution_count": 5,
   "metadata": {},
   "outputs": [
    {
     "data": {
      "text/html": [
       "<div>\n",
       "<style scoped>\n",
       "    .dataframe tbody tr th:only-of-type {\n",
       "        vertical-align: middle;\n",
       "    }\n",
       "\n",
       "    .dataframe tbody tr th {\n",
       "        vertical-align: top;\n",
       "    }\n",
       "\n",
       "    .dataframe thead th {\n",
       "        text-align: right;\n",
       "    }\n",
       "</style>\n",
       "<table border=\"1\" class=\"dataframe\">\n",
       "  <thead>\n",
       "    <tr style=\"text-align: right;\">\n",
       "      <th></th>\n",
       "      <th>age</th>\n",
       "      <th>division</th>\n",
       "      <th>official</th>\n",
       "      <th>overall</th>\n",
       "      <th>pace</th>\n",
       "      <th>genderdiv</th>\n",
       "    </tr>\n",
       "  </thead>\n",
       "  <tbody>\n",
       "    <tr>\n",
       "      <th>count</th>\n",
       "      <td>16157.000000</td>\n",
       "      <td>16157.000000</td>\n",
       "      <td>16157.000000</td>\n",
       "      <td>16157.000000</td>\n",
       "      <td>16157.000000</td>\n",
       "      <td>16157.000000</td>\n",
       "    </tr>\n",
       "    <tr>\n",
       "      <th>mean</th>\n",
       "      <td>41.643374</td>\n",
       "      <td>1101.441852</td>\n",
       "      <td>208.192250</td>\n",
       "      <td>8433.023272</td>\n",
       "      <td>7.948645</td>\n",
       "      <td>4353.567927</td>\n",
       "    </tr>\n",
       "    <tr>\n",
       "      <th>std</th>\n",
       "      <td>10.350718</td>\n",
       "      <td>942.042590</td>\n",
       "      <td>23.696453</td>\n",
       "      <td>5050.073585</td>\n",
       "      <td>0.903952</td>\n",
       "      <td>2771.521698</td>\n",
       "    </tr>\n",
       "    <tr>\n",
       "      <th>min</th>\n",
       "      <td>18.000000</td>\n",
       "      <td>1.000000</td>\n",
       "      <td>85.530000</td>\n",
       "      <td>1.000000</td>\n",
       "      <td>3.270000</td>\n",
       "      <td>1.000000</td>\n",
       "    </tr>\n",
       "    <tr>\n",
       "      <th>25%</th>\n",
       "      <td>34.000000</td>\n",
       "      <td>364.000000</td>\n",
       "      <td>191.750000</td>\n",
       "      <td>4067.000000</td>\n",
       "      <td>7.320000</td>\n",
       "      <td>2036.000000</td>\n",
       "    </tr>\n",
       "    <tr>\n",
       "      <th>50%</th>\n",
       "      <td>42.000000</td>\n",
       "      <td>843.000000</td>\n",
       "      <td>209.230000</td>\n",
       "      <td>8251.000000</td>\n",
       "      <td>7.980000</td>\n",
       "      <td>4115.000000</td>\n",
       "    </tr>\n",
       "    <tr>\n",
       "      <th>75%</th>\n",
       "      <td>49.000000</td>\n",
       "      <td>1560.000000</td>\n",
       "      <td>225.230000</td>\n",
       "      <td>12664.000000</td>\n",
       "      <td>8.600000</td>\n",
       "      <td>6317.000000</td>\n",
       "    </tr>\n",
       "    <tr>\n",
       "      <th>max</th>\n",
       "      <td>80.000000</td>\n",
       "      <td>3834.000000</td>\n",
       "      <td>284.230000</td>\n",
       "      <td>17598.000000</td>\n",
       "      <td>10.850000</td>\n",
       "      <td>10648.000000</td>\n",
       "    </tr>\n",
       "  </tbody>\n",
       "</table>\n",
       "</div>"
      ],
      "text/plain": [
       "                age      division      official       overall          pace  \\\n",
       "count  16157.000000  16157.000000  16157.000000  16157.000000  16157.000000   \n",
       "mean      41.643374   1101.441852    208.192250   8433.023272      7.948645   \n",
       "std       10.350718    942.042590     23.696453   5050.073585      0.903952   \n",
       "min       18.000000      1.000000     85.530000      1.000000      3.270000   \n",
       "25%       34.000000    364.000000    191.750000   4067.000000      7.320000   \n",
       "50%       42.000000    843.000000    209.230000   8251.000000      7.980000   \n",
       "75%       49.000000   1560.000000    225.230000  12664.000000      8.600000   \n",
       "max       80.000000   3834.000000    284.230000  17598.000000     10.850000   \n",
       "\n",
       "          genderdiv  \n",
       "count  16157.000000  \n",
       "mean    4353.567927  \n",
       "std     2771.521698  \n",
       "min        1.000000  \n",
       "25%     2036.000000  \n",
       "50%     4115.000000  \n",
       "75%     6317.000000  \n",
       "max    10648.000000  "
      ]
     },
     "execution_count": 5,
     "metadata": {},
     "output_type": "execute_result"
    }
   ],
   "source": [
    "#initial exploration of df using describe method\n",
    "df.describe()"
   ]
  },
  {
   "cell_type": "code",
   "execution_count": 6,
   "metadata": {},
   "outputs": [
    {
     "name": "stdout",
     "output_type": "stream",
     "text": [
      "<class 'pandas.core.frame.DataFrame'>\n",
      "Int64Index: 16157 entries, 0 to 16163\n",
      "Data columns (total 21 columns):\n",
      "25k          16157 non-null object\n",
      "age          16157 non-null int64\n",
      "name         16157 non-null object\n",
      "division     16157 non-null int64\n",
      "10k          16157 non-null object\n",
      "gender       16157 non-null object\n",
      "half         16157 non-null object\n",
      "official     16157 non-null float64\n",
      "bib          16157 non-null object\n",
      "ctz          757 non-null object\n",
      "country      16157 non-null object\n",
      "overall      16157 non-null int64\n",
      "pace         16157 non-null float64\n",
      "state        14701 non-null object\n",
      "30k          16157 non-null object\n",
      "5k           16157 non-null object\n",
      "genderdiv    16157 non-null int64\n",
      "20k          16157 non-null object\n",
      "35k          16157 non-null object\n",
      "city         16156 non-null object\n",
      "40k          16157 non-null object\n",
      "dtypes: float64(2), int64(4), object(15)\n",
      "memory usage: 2.7+ MB\n"
     ]
    }
   ],
   "source": [
    "#examining column types of df\n",
    "df.info()"
   ]
  },
  {
   "cell_type": "code",
   "execution_count": 7,
   "metadata": {},
   "outputs": [
    {
     "data": {
      "text/plain": [
       "M    9673\n",
       "F    6484\n",
       "Name: gender, dtype: int64"
      ]
     },
     "execution_count": 7,
     "metadata": {},
     "output_type": "execute_result"
    }
   ],
   "source": [
    "#exploring the gender column\n",
    "df.gender.value_counts()"
   ]
  },
  {
   "cell_type": "code",
   "execution_count": 8,
   "metadata": {},
   "outputs": [
    {
     "name": "stdout",
     "output_type": "stream",
     "text": [
      "object\n"
     ]
    }
   ],
   "source": [
    "#examining the dtype for the \"gender\" column.\n",
    "print(df['gender'].dtype)"
   ]
  },
  {
   "cell_type": "code",
   "execution_count": 9,
   "metadata": {},
   "outputs": [],
   "source": [
    "#encoding the gender column to numerical values using map()\n",
    "df['gender'] = df[\"gender\"].map({'M':1, \"F\":0})"
   ]
  },
  {
   "cell_type": "code",
   "execution_count": 10,
   "metadata": {},
   "outputs": [
    {
     "name": "stdout",
     "output_type": "stream",
     "text": [
      "int64\n"
     ]
    }
   ],
   "source": [
    "print(df['gender'].dtype)"
   ]
  },
  {
   "cell_type": "code",
   "execution_count": 11,
   "metadata": {},
   "outputs": [],
   "source": [
    "#dropping unnecessary columns\n",
    "X = df.drop(['name', 'ctz', 'country', 'state', 'city', 'bib'], 1)\n",
    "\n",
    "#y = df['overall']"
   ]
  },
  {
   "cell_type": "code",
   "execution_count": 12,
   "metadata": {},
   "outputs": [
    {
     "name": "stdout",
     "output_type": "stream",
     "text": [
      "<class 'pandas.core.frame.DataFrame'>\n"
     ]
    }
   ],
   "source": [
    "print(type(X))"
   ]
  },
  {
   "cell_type": "code",
   "execution_count": 13,
   "metadata": {},
   "outputs": [
    {
     "name": "stdout",
     "output_type": "stream",
     "text": [
      "<class 'pandas.core.frame.DataFrame'>\n",
      "Int64Index: 16157 entries, 0 to 16163\n",
      "Data columns (total 15 columns):\n",
      "25k          16157 non-null object\n",
      "age          16157 non-null int64\n",
      "division     16157 non-null int64\n",
      "10k          16157 non-null object\n",
      "gender       16157 non-null int64\n",
      "half         16157 non-null object\n",
      "official     16157 non-null float64\n",
      "overall      16157 non-null int64\n",
      "pace         16157 non-null float64\n",
      "30k          16157 non-null object\n",
      "5k           16157 non-null object\n",
      "genderdiv    16157 non-null int64\n",
      "20k          16157 non-null object\n",
      "35k          16157 non-null object\n",
      "40k          16157 non-null object\n",
      "dtypes: float64(2), int64(5), object(8)\n",
      "memory usage: 2.0+ MB\n"
     ]
    }
   ],
   "source": [
    "X.info()"
   ]
  },
  {
   "cell_type": "code",
   "execution_count": 14,
   "metadata": {},
   "outputs": [],
   "source": [
    "#converting the string columns into numeric and filling the nans using ffill.\n",
    "X['25k'] = pd.to_numeric(X['25k'], errors='coerce')\n",
    "X['25k'].ffill(axis=0, inplace=True)\n",
    "\n",
    "X['10k'] = pd.to_numeric(X['10k'], errors='coerce')\n",
    "X['10k'].ffill(axis=0, inplace=True)\n",
    "\n",
    "X['half'] = pd.to_numeric(X['half'], errors='coerce')\n",
    "X['half'].ffill(axis=0, inplace=True)\n",
    "\n",
    "X['30k'] = pd.to_numeric(X['30k'], errors='coerce')\n",
    "X['30k'].ffill(axis=0, inplace=True)\n",
    "\n",
    "X['5k'] = pd.to_numeric(X['5k'], errors='coerce')\n",
    "X['5k'].ffill(axis=0, inplace=True)\n",
    "\n",
    "X['20k'] = pd.to_numeric(X['20k'], errors='coerce')\n",
    "X['20k'].ffill(axis=0, inplace=True)\n",
    "\n",
    "X['35k'] = pd.to_numeric(X['35k'], errors='coerce')\n",
    "X['35k'].ffill(axis=0, inplace=True)\n",
    "\n",
    "X['40k'] = pd.to_numeric(X['40k'], errors='coerce')\n",
    "X['40k'].ffill(axis=0, inplace=True)\n",
    "\n",
    "\n",
    "\n"
   ]
  },
  {
   "cell_type": "code",
   "execution_count": 15,
   "metadata": {},
   "outputs": [
    {
     "data": {
      "text/plain": [
       "0"
      ]
     },
     "execution_count": 15,
     "metadata": {},
     "output_type": "execute_result"
    }
   ],
   "source": [
    "X.isnull().sum().sum()"
   ]
  },
  {
   "cell_type": "code",
   "execution_count": 16,
   "metadata": {},
   "outputs": [],
   "source": [
    "# Normalize the data.\n",
    "X_norm = normalize(X)\n",
    "\n",
    "# Reduce it to two components.\n",
    "X_pca = PCA(2).fit_transform(X_norm)\n"
   ]
  },
  {
   "cell_type": "markdown",
   "metadata": {},
   "source": [
    "### Kmeans"
   ]
  },
  {
   "cell_type": "code",
   "execution_count": 17,
   "metadata": {},
   "outputs": [
    {
     "data": {
      "image/png": "[encoded data removed]",
      "text/plain": [
       "<Figure size 432x288 with 1 Axes>"
      ]
     },
     "metadata": {
      "needs_background": "light"
     },
     "output_type": "display_data"
    }
   ],
   "source": [
    "#using the elbow method to get the optimum value for K\n",
    "cost =[] \n",
    "for i in range(1, 11): \n",
    "    KM_test = KMeans(n_clusters = i, max_iter = 500) \n",
    "    KM_test.fit(X_norm) \n",
    "      \n",
    "    # calculates squared error \n",
    "    # for the clustered points \n",
    "    cost.append(KM_test.inertia_)    \n",
    "    \n",
    "# plot the cost against K values \n",
    "plt.plot(range(1, 11), cost, color ='g', linewidth ='3') \n",
    "plt.xlabel(\"Value of K\") \n",
    "plt.ylabel(\"Sqaured Error (Cost)\") \n",
    "plt.show() # clear the plot "
   ]
  },
  {
   "cell_type": "code",
   "execution_count": 18,
   "metadata": {},
   "outputs": [
    {
     "data": {
      "image/png": "[encoded data removed]",
      "text/plain": [
       "<Figure size 432x288 with 1 Axes>"
      ]
     },
     "metadata": {
      "needs_background": "light"
     },
     "output_type": "display_data"
    }
   ],
   "source": [
    "#initializing Kmeans and predicting cluster value for each data point\n",
    "km = KMeans(n_clusters=4, init='k-means++')\n",
    "km.fit(X_norm)\n",
    "\n",
    "labels_pred_km = km.predict(X_norm)\n",
    "\n",
    "# Plot the solution.\n",
    "plt.scatter(X_pca[:, 0], X_pca[:, 1], c=labels_pred_km)\n",
    "plt.show()\n"
   ]
  },
  {
   "cell_type": "code",
   "execution_count": 19,
   "metadata": {},
   "outputs": [],
   "source": [
    "#extracting the cluster labels from kmeans and assigning it to variable cluster_labels_km\n",
    "cluster_labels_km = km.labels_"
   ]
  },
  {
   "cell_type": "code",
   "execution_count": 20,
   "metadata": {},
   "outputs": [
    {
     "data": {
      "text/plain": [
       "array([[4.00605476e-02, 1.24180784e-02, 4.14887321e-01, 1.59525111e-02,\n",
       "        3.97668927e-04, 3.37324795e-02, 6.96584943e-02, 6.57232900e-01,\n",
       "        2.65998205e-03, 4.84222760e-02, 8.00609102e-03, 6.00452937e-01,\n",
       "        3.19857936e-02, 5.70384511e-02, 6.57994683e-02],\n",
       "       [1.35532804e-02, 4.10882162e-03, 1.02684908e-01, 5.37521979e-03,\n",
       "        2.22261445e-18, 1.13901972e-02, 2.35726859e-02, 9.51282229e-01,\n",
       "        8.99993323e-04, 1.64230489e-02, 2.69885017e-03, 2.60740336e-01,\n",
       "        1.07977243e-02, 1.93738752e-02, 2.22977291e-02],\n",
       "       [1.64266579e-02, 7.01427298e-03, 7.84887569e-02, 6.51554707e-03,\n",
       "        1.48085525e-04, 1.38103427e-02, 2.87900645e-02, 7.82774704e-01,\n",
       "        1.09924763e-03, 1.99143891e-02, 3.26794213e-03, 6.06334339e-01,\n",
       "        1.30915145e-02, 2.35281124e-02, 2.71791325e-02],\n",
       "       [2.32588951e-01, 9.16856998e-02, 2.06931607e-01, 9.16749077e-02,\n",
       "        2.73786082e-03, 1.95632581e-01, 4.04512331e-01, 3.35802163e-01,\n",
       "        1.54489502e-02, 2.81925557e-01, 4.56750643e-02, 3.06279252e-01,\n",
       "        1.85592673e-01, 3.32632174e-01, 3.81860458e-01]])"
      ]
     },
     "execution_count": 20,
     "metadata": {},
     "output_type": "execute_result"
    }
   ],
   "source": [
    "#extracting the cluster centers from kmeans\n",
    "km.cluster_centers_"
   ]
  },
  {
   "cell_type": "code",
   "execution_count": 21,
   "metadata": {},
   "outputs": [
    {
     "data": {
      "text/plain": [
       "242.7114464445643"
      ]
     },
     "execution_count": 21,
     "metadata": {},
     "output_type": "execute_result"
    }
   ],
   "source": [
    "#extracting kmeans inertia value\n",
    "km.inertia_"
   ]
  },
  {
   "cell_type": "markdown",
   "metadata": {},
   "source": [
    "### Spectral Clustering"
   ]
  },
  {
   "cell_type": "code",
   "execution_count": 22,
   "metadata": {},
   "outputs": [
    {
     "data": {
      "image/png": "[encoded data removed]",
      "text/plain": [
       "<Figure size 432x288 with 1 Axes>"
      ]
     },
     "metadata": {
      "needs_background": "light"
     },
     "output_type": "display_data"
    }
   ],
   "source": [
    "from sklearn.cluster import SpectralClustering\n",
    "\n",
    "# We know we're looking for three clusters.\n",
    "n_clusters=4\n",
    "\n",
    "# Declare and fit the model.\n",
    "sc = SpectralClustering(n_clusters=n_clusters)\n",
    "sc.fit(X_norm)\n",
    "\n",
    "#Predicted clusters.\n",
    "sc_labels = sc.fit_predict(X_norm)\n",
    "\n",
    "#Graph results.\n",
    "plt.scatter(X_pca[:, 0], X_pca[:, 1], c=sc_labels)\n",
    "plt.show()\n",
    "\n",
    "#print('Comparing the assigned categories to the ones in the data:')\n",
    "#print(pd.crosstab(y_train,predict))"
   ]
  },
  {
   "cell_type": "markdown",
   "metadata": {},
   "source": [
    "### Mean shift"
   ]
  },
  {
   "cell_type": "code",
   "execution_count": 23,
   "metadata": {},
   "outputs": [
    {
     "name": "stdout",
     "output_type": "stream",
     "text": [
      "Number of estimated clusters: 4\n"
     ]
    }
   ],
   "source": [
    "from sklearn.cluster import MeanShift, estimate_bandwidth\n",
    "\n",
    "# Here we set the bandwidth. This function automatically derives a bandwidth\n",
    "# number based on an inspection of the distances among points in the data.\n",
    "bandwidth = estimate_bandwidth(X_norm, quantile=0.2, n_samples=500)\n",
    "\n",
    "# Declare and fit the model.\n",
    "ms = MeanShift(bandwidth=bandwidth, bin_seeding=True)\n",
    "ms.fit(X_norm)\n",
    "\n",
    "MS_predict_labels = ms.fit_predict(X_norm)\n",
    "\n",
    "# Extract cluster assignments for each data point and assign it to variable ms_labels\n",
    "ms_labels = ms.labels_\n",
    "\n",
    "# Count our clusters.\n",
    "n_clusters_ms = len(np.unique(ms_labels))\n",
    "\n",
    "print(\"Number of estimated clusters: {}\".format(n_clusters_ms))"
   ]
  },
  {
   "cell_type": "code",
   "execution_count": 24,
   "metadata": {},
   "outputs": [
    {
     "data": {
      "image/png": "[encoded data removed]",
      "text/plain": [
       "<Figure size 432x288 with 1 Axes>"
      ]
     },
     "metadata": {
      "needs_background": "light"
     },
     "output_type": "display_data"
    }
   ],
   "source": [
    "plt.scatter(X_pca[:, 0], X_pca[:, 1], c=MS_predict_labels)\n",
    "plt.show()"
   ]
  },
  {
   "cell_type": "code",
   "execution_count": 25,
   "metadata": {},
   "outputs": [],
   "source": [
    "# Extract cluster assignments from mean shift for each data point and assign it to variable ms_labels\n",
    "ms_labels = ms.labels_\n"
   ]
  },
  {
   "cell_type": "code",
   "execution_count": 26,
   "metadata": {},
   "outputs": [],
   "source": [
    "# Coordinates of the cluster centers for mean shift\n",
    "cluster_centers_ms = ms.cluster_centers_"
   ]
  },
  {
   "cell_type": "code",
   "execution_count": 27,
   "metadata": {},
   "outputs": [],
   "source": [
    "#creating a new column for dataframe X, containing cluster labels for each observation (datapoint) from Kmeans results.\n",
    "X['ClusterNum'] = labels_pred_km"
   ]
  },
  {
   "cell_type": "code",
   "execution_count": 28,
   "metadata": {},
   "outputs": [
    {
     "data": {
      "text/html": [
       "<div>\n",
       "<style scoped>\n",
       "    .dataframe tbody tr th:only-of-type {\n",
       "        vertical-align: middle;\n",
       "    }\n",
       "\n",
       "    .dataframe tbody tr th {\n",
       "        vertical-align: top;\n",
       "    }\n",
       "\n",
       "    .dataframe thead th {\n",
       "        text-align: right;\n",
       "    }\n",
       "</style>\n",
       "<table border=\"1\" class=\"dataframe\">\n",
       "  <thead>\n",
       "    <tr style=\"text-align: right;\">\n",
       "      <th></th>\n",
       "      <th>25k</th>\n",
       "      <th>age</th>\n",
       "      <th>division</th>\n",
       "      <th>10k</th>\n",
       "      <th>gender</th>\n",
       "      <th>half</th>\n",
       "      <th>official</th>\n",
       "      <th>overall</th>\n",
       "      <th>pace</th>\n",
       "      <th>30k</th>\n",
       "      <th>5k</th>\n",
       "      <th>genderdiv</th>\n",
       "      <th>20k</th>\n",
       "      <th>35k</th>\n",
       "      <th>40k</th>\n",
       "      <th>ClusterNum</th>\n",
       "    </tr>\n",
       "  </thead>\n",
       "  <tbody>\n",
       "    <tr>\n",
       "      <th>0</th>\n",
       "      <td>49.87</td>\n",
       "      <td>28</td>\n",
       "      <td>9</td>\n",
       "      <td>18.18</td>\n",
       "      <td>1</td>\n",
       "      <td>40.93</td>\n",
       "      <td>90.90</td>\n",
       "      <td>9</td>\n",
       "      <td>3.47</td>\n",
       "      <td>62.07</td>\n",
       "      <td>8.90</td>\n",
       "      <td>9</td>\n",
       "      <td>38.80</td>\n",
       "      <td>74.73</td>\n",
       "      <td>85.55</td>\n",
       "      <td>3</td>\n",
       "    </tr>\n",
       "    <tr>\n",
       "      <th>1</th>\n",
       "      <td>77.27</td>\n",
       "      <td>30</td>\n",
       "      <td>5</td>\n",
       "      <td>30.90</td>\n",
       "      <td>1</td>\n",
       "      <td>64.90</td>\n",
       "      <td>132.50</td>\n",
       "      <td>5</td>\n",
       "      <td>5.07</td>\n",
       "      <td>92.97</td>\n",
       "      <td>15.90</td>\n",
       "      <td>5</td>\n",
       "      <td>61.52</td>\n",
       "      <td>108.78</td>\n",
       "      <td>124.77</td>\n",
       "      <td>3</td>\n",
       "    </tr>\n",
       "    <tr>\n",
       "      <th>2</th>\n",
       "      <td>77.23</td>\n",
       "      <td>23</td>\n",
       "      <td>1</td>\n",
       "      <td>30.90</td>\n",
       "      <td>1</td>\n",
       "      <td>64.92</td>\n",
       "      <td>130.37</td>\n",
       "      <td>1</td>\n",
       "      <td>4.98</td>\n",
       "      <td>92.72</td>\n",
       "      <td>15.93</td>\n",
       "      <td>1</td>\n",
       "      <td>61.53</td>\n",
       "      <td>108.68</td>\n",
       "      <td>123.78</td>\n",
       "      <td>3</td>\n",
       "    </tr>\n",
       "    <tr>\n",
       "      <th>3</th>\n",
       "      <td>50.50</td>\n",
       "      <td>32</td>\n",
       "      <td>5</td>\n",
       "      <td>18.73</td>\n",
       "      <td>1</td>\n",
       "      <td>42.00</td>\n",
       "      <td>88.43</td>\n",
       "      <td>5</td>\n",
       "      <td>3.38</td>\n",
       "      <td>61.35</td>\n",
       "      <td>8.98</td>\n",
       "      <td>5</td>\n",
       "      <td>39.88</td>\n",
       "      <td>73.00</td>\n",
       "      <td>83.43</td>\n",
       "      <td>3</td>\n",
       "    </tr>\n",
       "    <tr>\n",
       "      <th>4</th>\n",
       "      <td>48.75</td>\n",
       "      <td>39</td>\n",
       "      <td>3</td>\n",
       "      <td>18.18</td>\n",
       "      <td>1</td>\n",
       "      <td>40.57</td>\n",
       "      <td>87.22</td>\n",
       "      <td>3</td>\n",
       "      <td>3.33</td>\n",
       "      <td>59.92</td>\n",
       "      <td>8.92</td>\n",
       "      <td>3</td>\n",
       "      <td>38.55</td>\n",
       "      <td>71.68</td>\n",
       "      <td>81.88</td>\n",
       "      <td>3</td>\n",
       "    </tr>\n",
       "  </tbody>\n",
       "</table>\n",
       "</div>"
      ],
      "text/plain": [
       "     25k  age  division    10k  gender   half  official  overall  pace    30k  \\\n",
       "0  49.87   28         9  18.18       1  40.93     90.90        9  3.47  62.07   \n",
       "1  77.27   30         5  30.90       1  64.90    132.50        5  5.07  92.97   \n",
       "2  77.23   23         1  30.90       1  64.92    130.37        1  4.98  92.72   \n",
       "3  50.50   32         5  18.73       1  42.00     88.43        5  3.38  61.35   \n",
       "4  48.75   39         3  18.18       1  40.57     87.22        3  3.33  59.92   \n",
       "\n",
       "      5k  genderdiv    20k     35k     40k  ClusterNum  \n",
       "0   8.90          9  38.80   74.73   85.55           3  \n",
       "1  15.90          5  61.52  108.78  124.77           3  \n",
       "2  15.93          1  61.53  108.68  123.78           3  \n",
       "3   8.98          5  39.88   73.00   83.43           3  \n",
       "4   8.92          3  38.55   71.68   81.88           3  "
      ]
     },
     "execution_count": 28,
     "metadata": {},
     "output_type": "execute_result"
    }
   ],
   "source": [
    "X.head()"
   ]
  },
  {
   "cell_type": "markdown",
   "metadata": {},
   "source": [
    "This Boston Marathon dataset for year 2013 contains alot of columns tracking the performace of each runner.  It has a categorical column \"gender\", which I encoded to numeric with 0 representing females and 1 representing males.  There is also a column with the age of each runner.  The remaining columns, such as \"20k\" and \"25k\", track the minute mark for each runner at the different distance intervals of the race.\n",
    "\n",
    "I used the results from Kmeans to create a new column called \"ClusterNum\", which represents the cluster label for each observation in the data.  "
   ]
  },
  {
   "cell_type": "code",
   "execution_count": 29,
   "metadata": {},
   "outputs": [
    {
     "data": {
      "text/plain": [
       "2    6613\n",
       "1    6475\n",
       "0    2707\n",
       "3     362\n",
       "Name: ClusterNum, dtype: int64"
      ]
     },
     "execution_count": 29,
     "metadata": {},
     "output_type": "execute_result"
    }
   ],
   "source": [
    "#examining ClusterName column\n",
    "X.ClusterNum.value_counts()"
   ]
  },
  {
   "cell_type": "markdown",
   "metadata": {},
   "source": [
    "For the data, Kmeans created four clusters.  From the above results using value_counts, we can see that the majority of points are in cluster 0, cluster 1, and cluster 3, with a handful of the remaining points in cluster 2."
   ]
  },
  {
   "cell_type": "code",
   "execution_count": 30,
   "metadata": {},
   "outputs": [
    {
     "name": "stdout",
     "output_type": "stream",
     "text": [
      "Comparing clusters against gender:\n",
      "gender         0     1\n",
      "ClusterNum            \n",
      "0              0  2707\n",
      "1           6475     0\n",
      "2              0  6613\n",
      "3              9   353\n"
     ]
    }
   ],
   "source": [
    "#using pd.crosstab to compare gender with cluster assignment\n",
    "print('Comparing clusters against gender:')\n",
    "print(pd.crosstab(X['ClusterNum'], X['gender']))"
   ]
  },
  {
   "cell_type": "markdown",
   "metadata": {},
   "source": [
    "By exploring the gender column by comparing it to each datapoints cluster assignment using cross tab, the results show that almost all of the female runners were assigned to cluster 1, while all the males were assigned to the three remaining clusters.  This may suggest that significant differences exist between males and females regarding performance in the race. "
   ]
  },
  {
   "cell_type": "code",
   "execution_count": 31,
   "metadata": {},
   "outputs": [],
   "source": [
    "#subsetting the data for males and females into separate dataframes\n",
    "#df_male = X[X['gender'] == 1]\n",
    "#df_female = X[X['gender'] == 0]"
   ]
  },
  {
   "cell_type": "code",
   "execution_count": 34,
   "metadata": {},
   "outputs": [
    {
     "data": {
      "text/html": [
       "<div>\n",
       "<style scoped>\n",
       "    .dataframe tbody tr th:only-of-type {\n",
       "        vertical-align: middle;\n",
       "    }\n",
       "\n",
       "    .dataframe tbody tr th {\n",
       "        vertical-align: top;\n",
       "    }\n",
       "\n",
       "    .dataframe thead th {\n",
       "        text-align: right;\n",
       "    }\n",
       "</style>\n",
       "<table border=\"1\" class=\"dataframe\">\n",
       "  <thead>\n",
       "    <tr style=\"text-align: right;\">\n",
       "      <th></th>\n",
       "      <th>25k</th>\n",
       "      <th>age</th>\n",
       "      <th>division</th>\n",
       "      <th>10k</th>\n",
       "      <th>half</th>\n",
       "      <th>official</th>\n",
       "      <th>overall</th>\n",
       "      <th>pace</th>\n",
       "      <th>30k</th>\n",
       "      <th>5k</th>\n",
       "      <th>genderdiv</th>\n",
       "      <th>20k</th>\n",
       "      <th>35k</th>\n",
       "      <th>40k</th>\n",
       "      <th>ClusterNum</th>\n",
       "    </tr>\n",
       "    <tr>\n",
       "      <th>gender</th>\n",
       "      <th></th>\n",
       "      <th></th>\n",
       "      <th></th>\n",
       "      <th></th>\n",
       "      <th></th>\n",
       "      <th></th>\n",
       "      <th></th>\n",
       "      <th></th>\n",
       "      <th></th>\n",
       "      <th></th>\n",
       "      <th></th>\n",
       "      <th></th>\n",
       "      <th></th>\n",
       "      <th></th>\n",
       "      <th></th>\n",
       "    </tr>\n",
       "  </thead>\n",
       "  <tbody>\n",
       "    <tr>\n",
       "      <th>0</th>\n",
       "      <td>125.539806</td>\n",
       "      <td>38.506323</td>\n",
       "      <td>1207.588988</td>\n",
       "      <td>49.609570</td>\n",
       "      <td>105.361565</td>\n",
       "      <td>219.633004</td>\n",
       "      <td>10967.729642</td>\n",
       "      <td>8.385028</td>\n",
       "      <td>152.422751</td>\n",
       "      <td>24.873745</td>\n",
       "      <td>3399.124923</td>\n",
       "      <td>99.864452</td>\n",
       "      <td>180.190416</td>\n",
       "      <td>207.689898</td>\n",
       "      <td>1.002776</td>\n",
       "    </tr>\n",
       "    <tr>\n",
       "      <th>1</th>\n",
       "      <td>113.312212</td>\n",
       "      <td>43.746201</td>\n",
       "      <td>1030.289362</td>\n",
       "      <td>44.813689</td>\n",
       "      <td>95.145267</td>\n",
       "      <td>200.523290</td>\n",
       "      <td>6733.960302</td>\n",
       "      <td>7.656128</td>\n",
       "      <td>137.683094</td>\n",
       "      <td>22.455891</td>\n",
       "      <td>4993.349633</td>\n",
       "      <td>90.178865</td>\n",
       "      <td>163.164226</td>\n",
       "      <td>189.143254</td>\n",
       "      <td>1.476791</td>\n",
       "    </tr>\n",
       "  </tbody>\n",
       "</table>\n",
       "</div>"
      ],
      "text/plain": [
       "               25k        age     division        10k        half    official  \\\n",
       "gender                                                                          \n",
       "0       125.539806  38.506323  1207.588988  49.609570  105.361565  219.633004   \n",
       "1       113.312212  43.746201  1030.289362  44.813689   95.145267  200.523290   \n",
       "\n",
       "             overall      pace         30k         5k    genderdiv        20k  \\\n",
       "gender                                                                          \n",
       "0       10967.729642  8.385028  152.422751  24.873745  3399.124923  99.864452   \n",
       "1        6733.960302  7.656128  137.683094  22.455891  4993.349633  90.178865   \n",
       "\n",
       "               35k         40k  ClusterNum  \n",
       "gender                                      \n",
       "0       180.190416  207.689898    1.002776  \n",
       "1       163.164226  189.143254    1.476791  "
      ]
     },
     "execution_count": 34,
     "metadata": {},
     "output_type": "execute_result"
    }
   ],
   "source": [
    "#getting the average of all numeric variables by grouping the data by gender\n",
    "X.groupby('gender').mean()"
   ]
  },
  {
   "cell_type": "markdown",
   "metadata": {},
   "source": [
    "After grouping the data using the gender column, we can clearly see the differences.  For example, females on average took longer to cross every distance interval recorded for the marathon.  The bar graph below shows that the average official time for females greater than it is for males."
   ]
  },
  {
   "cell_type": "code",
   "execution_count": 38,
   "metadata": {},
   "outputs": [
    {
     "data": {
      "text/plain": [
       "<matplotlib.axes._subplots.AxesSubplot at 0x1805015cba8>"
      ]
     },
     "execution_count": 38,
     "metadata": {},
     "output_type": "execute_result"
    },
    {
     "data": {
      "image/png": "[encoded data removed]",
      "text/plain": [
       "<Figure size 432x288 with 1 Axes>"
      ]
     },
     "metadata": {
      "needs_background": "light"
     },
     "output_type": "display_data"
    }
   ],
   "source": [
    "X['official'].groupby(X['gender']).aggregate(np.average).plot(kind='bar', title=\"Average Official Time for Females(0) and Males(1)\")"
   ]
  },
  {
   "cell_type": "markdown",
   "metadata": {},
   "source": [
    "After grouping the data using the gender column, we can clearly see the differences.  For example, females on average took longer to cross every distance interval recorded for the marathon.  The bar graph above shows that the average official time for females greater than it is for males."
   ]
  },
  {
   "cell_type": "code",
   "execution_count": 39,
   "metadata": {},
   "outputs": [
    {
     "data": {
      "text/plain": [
       "<matplotlib.axes._subplots.AxesSubplot at 0x1805014efd0>"
      ]
     },
     "execution_count": 39,
     "metadata": {},
     "output_type": "execute_result"
    },
    {
     "data": {
      "image/png": "[encoded data removed]",
      "text/plain": [
       "<Figure size 432x288 with 1 Axes>"
      ]
     },
     "metadata": {
      "needs_background": "light"
     },
     "output_type": "display_data"
    }
   ],
   "source": [
    "X['age'].groupby(X['gender']).aggregate(np.average).plot(kind='bar', title=\"Average Age for Females(0) and Males(1)\")"
   ]
  },
  {
   "cell_type": "markdown",
   "metadata": {},
   "source": [
    "Another interesting fact is that although females took longer to complete the race, they were on average five years younger.  Next I'm going to explore the age column by subsetting according to the cluster label for each observation."
   ]
  },
  {
   "cell_type": "code",
   "execution_count": 32,
   "metadata": {},
   "outputs": [],
   "source": [
    "dfX_cluster0 = X[X['ClusterNum'] == 0]\n",
    "dfX_cluster1 = X[X['ClusterNum'] == 1]\n",
    "dfX_cluster2 = X[X['ClusterNum'] == 2]\n",
    "dfX_cluster3 = X[X['ClusterNum'] == 3]"
   ]
  },
  {
   "cell_type": "code",
   "execution_count": 33,
   "metadata": {},
   "outputs": [
    {
     "data": {
      "text/plain": [
       "Text(0.5, 0, 'Age')"
      ]
     },
     "execution_count": 33,
     "metadata": {},
     "output_type": "execute_result"
    },
    {
     "data": {
      "image/png": "[encoded data removed]",
      "text/plain": [
       "<Figure size 1440x1008 with 4 Axes>"
      ]
     },
     "metadata": {
      "needs_background": "light"
     },
     "output_type": "display_data"
    }
   ],
   "source": [
    "#setting figure size\n",
    "f = plt.figure(figsize=(20,14))\n",
    "\n",
    "#making a plot figure that will have two rows with two plots in each row\n",
    "f.add_subplot(2, 2, 1)\n",
    "sns.distplot(dfX_cluster0['age'], bins=10, kde=False)\n",
    "plt.title(\"Cluster 0\")\n",
    "plt.ylabel('Value')\n",
    "plt.xlabel('Age')\n",
    "\n",
    "f.add_subplot(2, 2, 2)\n",
    "sns.distplot(dfX_cluster1['age'], bins=10, kde=False)\n",
    "plt.title('Cluster 1')\n",
    "plt.ylabel('Value')\n",
    "plt.xlabel('Age')\n",
    "\n",
    "\n",
    "f.add_subplot(2, 2, 3)\n",
    "sns.distplot(dfX_cluster2['age'], bins=10, kde=False)\n",
    "plt.title(\"Cluster 2\")\n",
    "plt.ylabel('Value')\n",
    "plt.xlabel('Age')\n",
    "\n",
    "f.add_subplot(2, 2, 4)\n",
    "sns.distplot(dfX_cluster3['age'], bins=10, kde=False)\n",
    "plt.title('Cluster 3')\n",
    "plt.ylabel('Value')\n",
    "plt.xlabel('Age')"
   ]
  },
  {
   "cell_type": "markdown",
   "metadata": {},
   "source": [
    "The above histograms show the distribution of the different age groups that are prevalent in each of the clusters.  Cluster 1 and cluster 2 include the majority of runners and they tend to be older than the runners grouped in clusters 0 and 3, but cluster 1 has a larger spread of ages than cluster 2. "
   ]
  },
  {
   "cell_type": "code",
   "execution_count": 45,
   "metadata": {},
   "outputs": [
    {
     "data": {
      "text/plain": [
       "<matplotlib.axes._subplots.AxesSubplot at 0x180529d8b38>"
      ]
     },
     "execution_count": 45,
     "metadata": {},
     "output_type": "execute_result"
    },
    {
     "data": {
      "image/png": "[encoded data removed]",
      "text/plain": [
       "<Figure size 432x288 with 1 Axes>"
      ]
     },
     "metadata": {
      "needs_background": "light"
     },
     "output_type": "display_data"
    }
   ],
   "source": [
    "#bar graph of official timing grouped by \"ClusterNum\"\n",
    "X['official'].groupby(X['ClusterNum']).aggregate(np.average).plot(kind='bar', title=\"Average Official Time\")"
   ]
  },
  {
   "cell_type": "markdown",
   "metadata": {},
   "source": [
    "After looking the the two sets of bar graphs above, it seems that Kmeans is grouping the data into different clusters based on the differences in age and official times recorded for the different runners represented by the dataset."
   ]
  },
  {
   "cell_type": "code",
   "execution_count": 52,
   "metadata": {},
   "outputs": [],
   "source": [
    "#bar graph of 10k distance interval grouped by \"ClusterNum\"\n",
    "#X['10k'].groupby(X['ClusterNum']).aggregate(np.average).plot(kind='bar', title=\"Average Official Time\")"
   ]
  },
  {
   "cell_type": "code",
   "execution_count": 51,
   "metadata": {},
   "outputs": [],
   "source": [
    "#X['20k'].groupby(X['ClusterNum']).aggregate(np.average).plot(kind='bar', title=\"Average Official Time\")"
   ]
  },
  {
   "cell_type": "code",
   "execution_count": 50,
   "metadata": {},
   "outputs": [],
   "source": [
    "#X['25k'].groupby(X['ClusterNum']).aggregate(np.average).plot(kind='bar', title=\"Average Official Time\")"
   ]
  }
 ],
 "metadata": {
  "kernelspec": {
   "display_name": "Python 3",
   "language": "python",
   "name": "python3"
  },
  "language_info": {
   "codemirror_mode": {
    "name": "ipython",
    "version": 3
   },
   "file_extension": ".py",
   "mimetype": "text/x-python",
   "name": "python",
   "nbconvert_exporter": "python",
   "pygments_lexer": "ipython3",
   "version": "3.7.1"
  }
 },
 "nbformat": 4,
 "nbformat_minor": 2
}
