{
 "cells": [
  {
   "cell_type": "code",
   "execution_count": 1,
   "metadata": {},
   "outputs": [],
   "source": [
    "import numpy as np\n",
    "import pandas as pd\n",
    "import scipy\n",
    "import matplotlib.pyplot as plt\n",
    "import seaborn as sns\n",
    "%matplotlib inline"
   ]
  },
  {
   "cell_type": "code",
   "execution_count": 2,
   "metadata": {},
   "outputs": [
    {
     "name": "stderr",
     "output_type": "stream",
     "text": [
      "[nltk_data] Downloading package punkt to\n",
      "[nltk_data]     C:\\Users\\sajee\\AppData\\Roaming\\nltk_data...\n",
      "[nltk_data]   Unzipping tokenizers\\punkt.zip.\n",
      "[nltk_data] Downloading package gutenberg to\n",
      "[nltk_data]     C:\\Users\\sajee\\AppData\\Roaming\\nltk_data...\n",
      "[nltk_data]   Package gutenberg is already up-to-date!\n"
     ]
    },
    {
     "name": "stdout",
     "output_type": "stream",
     "text": [
      "['[ Emma by Jane Austen 1816 ]', 'VOLUME I', 'CHAPTER I', 'Emma Woodhouse , handsome , clever , and rich , with a comfortable home and happy disposition , seemed to unite some of the best blessings of existence ; and had lived nearly twenty - one years in the world with very little to distress or vex her .']\n"
     ]
    }
   ],
   "source": [
    "import nltk\n",
    "from nltk.corpus import gutenberg\n",
    "nltk.download('punkt')\n",
    "nltk.download('gutenberg')\n",
    "import re\n",
    "from sklearn.model_selection import train_test_split\n",
    "\n",
    "#reading in the data, this time in the form of paragraphs\n",
    "emma=gutenberg.paras('austen-emma.txt')\n",
    "#processing\n",
    "emma_paras=[]\n",
    "for paragraph in emma:\n",
    "    para=paragraph[0]\n",
    "    #removing the double-dash from all words\n",
    "    para=[re.sub(r'--','',word) for word in para]\n",
    "    #Forming each paragraph into a string and adding it to the list of strings.\n",
    "    emma_paras.append(' '.join(para))\n",
    "\n",
    "print(emma_paras[0:4])"
   ]
  },
  {
   "cell_type": "code",
   "execution_count": 18,
   "metadata": {},
   "outputs": [
    {
     "name": "stdout",
     "output_type": "stream",
     "text": [
      "Number of features: 1948\n",
      "Original sentence: Emma was obliged to ask what they had told her , though fearful of its producing Mr . Elton .\n",
      "Tf_idf vector: {'producing': 0.49800716119896493, 'ask': 0.37820399303630864, 'fearful': 0.46485208308634507, 'obliged': 0.3530361160312456, 'elton': 0.24540901423669018, 'told': 0.3817132197883509, 'mr': 0.18011343466017826, 'emma': 0.17279245614001376}\n"
     ]
    }
   ],
   "source": [
    "from sklearn.feature_extraction.text import TfidfVectorizer\n",
    "\n",
    "X_train, X_test = train_test_split(emma_paras, test_size=0.4, random_state=3)\n",
    "\n",
    "vectorizer = TfidfVectorizer(max_df=0.5, # drop words that occur in more than half the paragraphs\n",
    "                             min_df=2, # only use words that appear at least twice\n",
    "                             stop_words='english', \n",
    "                             lowercase=True, #convert everything to lower case (since Alice in Wonderland has the HABIT of CAPITALIZING WORDS for EMPHASIS)\n",
    "                             use_idf=True,#we definitely want to use inverse document frequencies in our weighting\n",
    "                             norm=u'l2', #Applies a correction factor so that longer paragraphs and shorter paragraphs get treated equally\n",
    "                             smooth_idf=True #Adds 1 to all document frequencies, as if an extra document existed that used every word once.  Prevents divide-by-zero errors\n",
    "                            )\n",
    "\n",
    "\n",
    "#Applying the vectorizer\n",
    "emma_paras_tfidf=vectorizer.fit_transform(emma_paras)\n",
    "print(\"Number of features: %d\" % emma_paras_tfidf.get_shape()[1])\n",
    "\n",
    "#splitting into training and test sets\n",
    "X_train_tfidf, X_test_tfidf= train_test_split(emma_paras_tfidf, test_size=0.4, random_state=3)\n",
    "\n",
    "\n",
    "#Reshapes the vectorizer output into something people can read\n",
    "X_train_tfidf_csr = X_train_tfidf.tocsr()\n",
    "\n",
    "#applying model to test set, for challenge 0.\n",
    "X_test_tfidf_csr = X_test_tfidf.tocsr()\n",
    "\n",
    "\n",
    "#number of paragraphs\n",
    "n = X_train_tfidf_csr.shape[0]\n",
    "#A list of dictionaries, one per paragraph\n",
    "tfidf_bypara = [{} for _ in range(0,n)]\n",
    "#List of features\n",
    "terms = vectorizer.get_feature_names()\n",
    "#for each paragraph, lists the feature words and their tf-idf scores\n",
    "for i, j in zip(*X_train_tfidf_csr.nonzero()):\n",
    "    tfidf_bypara[i][terms[j]] = X_train_tfidf_csr[i, j]\n",
    "\n",
    "#Keep in mind that the log base 2 of 1 is 0, so a tf-idf score of 0 indicates that the word was present once in that sentence.\n",
    "print('Original sentence:', X_train[5])\n",
    "print('Tf_idf vector:', tfidf_bypara[5])"
   ]
  },
  {
   "cell_type": "code",
   "execution_count": 21,
   "metadata": {},
   "outputs": [
    {
     "name": "stdout",
     "output_type": "stream",
     "text": [
      "Percent variance captured by all components: 48.7272597198354\n",
      "Component 0:\n",
      "\" Oh !            0.999763\n",
      "\" Oh !            0.999763\n",
      "\" Oh !            0.999763\n",
      "\" Oh no , no !    0.999763\n",
      "\" Oh !            0.999763\n",
      "\" Oh !\"           0.999763\n",
      "\" Oh !            0.999763\n",
      "\" Oh !            0.999763\n",
      "\" Oh !            0.999763\n",
      "\" Oh !            0.999763\n",
      "Name: 0, dtype: float64\n",
      "Component 1:\n",
      "\" Well , Mrs . Weston ,\" said Emma triumphantly when he left them , \" what do you say now to Mr . Knightley ' s marrying Jane Fairfax ?\"                                                                                                                  0.650948\n",
      "\" I do not know what your opinion may be , Mrs . Weston ,\" said Mr . Knightley , \" of this great intimacy between Emma and Harriet Smith , but I think it a bad thing .\"                                                                                  0.583433\n",
      "\" In one respect , perhaps , Mr . Elton ' s manners are superior to Mr . Knightley ' s or Mr . Weston ' s .                                                                                                                                               0.567779\n",
      "After tea , Mr . and Mrs . Weston , and Mr . Elton sat down with Mr . Woodhouse to cards .                                                                                                                                                                0.563819\n",
      "\" I do not admire it ,\" said Mr . Knightley .                                                                                                                                                                                                             0.542263\n",
      "\" Mr . Weston will be almost as much relieved as myself ,\" said she .                                                                                                                                                                                     0.521773\n",
      "\" Isabella and Emma both write beautifully ,\" said Mr . Woodhouse ; \" and always did .                                                                                                                                                                    0.505781\n",
      "\" You get upon delicate subjects , Emma ,\" said Mrs . Weston smiling ; \" remember that I am here . Mr .                                                                                                                                                   0.500026\n",
      "Harriet , Mr . Elton , and Mr . Knightley , their own especial set , were the only persons invited to meet them ; the hours were to be early , as well as the numbers few ; Mr . Woodhouse ' s habits and inclination being consulted in every thing .    0.497878\n",
      "\" There were misunderstandings between them , Emma ; he said so expressly .                                                                                                                                                                               0.493057\n",
      "Name: 1, dtype: float64\n",
      "Component 2:\n",
      "\" Ah !      0.999936\n",
      "\" Ah !      0.999936\n",
      "\" Ah !      0.999936\n",
      "But ah !    0.999936\n",
      "\" Ah !      0.999936\n",
      "\" Ah !      0.999936\n",
      "\" Ah !      0.999936\n",
      "\" Ah !      0.999936\n",
      "\" Ah !      0.999936\n",
      "\" Ah !      0.999936\n",
      "Name: 2, dtype: float64\n",
      "Component 3:\n",
      "\" In one respect , perhaps , Mr . Elton ' s manners are superior to Mr . Knightley ' s or Mr . Weston ' s .    0.699670\n",
      "\" Mr . Knightley was there too , was he ?\"                                                                     0.697263\n",
      "Mr . Knightley grew angry .                                                                                    0.667177\n",
      "\" You are not vain , Mr . Knightley .                                                                          0.652124\n",
      "\"` Mr .                                                                                                        0.651002\n",
      "Mr . Knightley , however , shewed no triumphant happiness .                                                    0.540301\n",
      "\" Mr . Elton indeed !\"                                                                                         0.520742\n",
      "After tea , Mr . and Mrs . Weston , and Mr . Elton sat down with Mr . Woodhouse to cards .                     0.516745\n",
      "Mr . Knightley shook his head at her .                                                                         0.511175\n",
      "\" And I , Mr . Knightley , am equally stout in my confidence of its not doing them any harm .                  0.483992\n",
      "Name: 3, dtype: float64\n",
      "Component 4:\n",
      "To Miss                                                                                                                                                                           0.769523\n",
      "\" You and Miss Smith , and Miss Fairfax , will be three , and the two Miss Coxes five ,\" had been repeated many times over .                                                      0.717605\n",
      "\" Well , Miss Woodhouse !\"                                                                                                                                                        0.653172\n",
      "\" What can it be , Miss Woodhouse ? what can it be ?                                                                                                                              0.653172\n",
      "\" Charming Miss Woodhouse !                                                                                                                                                       0.626823\n",
      "\" Not five minutes to spare even for your friends Miss Fairfax and Miss Bates ?                                                                                                   0.619763\n",
      "Miss Bates and Miss Fairfax , escorted by the two gentlemen , walked into the room ; and Mrs . Elton seemed to think it as much her duty as Mrs . Weston ' s to receive them .    0.610481\n",
      "\" Mrs . Elton , I suppose , has been the person to whom Miss Fairfax owes \"                                                                                                       0.603711\n",
      "\" Perhaps Miss Fairfax has never been staying here so long before .\"                                                                                                              0.588186\n",
      "\" Come Miss Woodhouse , Miss Otway , Miss Fairfax , what are you all doing ? Come Emma , set your companions the example .                                                        0.562769\n",
      "Name: 4, dtype: float64\n"
     ]
    }
   ],
   "source": [
    "from sklearn.decomposition import TruncatedSVD\n",
    "from sklearn.pipeline import make_pipeline\n",
    "from sklearn.preprocessing import Normalizer\n",
    "\n",
    "#Our SVD data reducer.  We are going to reduce the feature space from 1379 to 130.\n",
    "svd= TruncatedSVD(130)\n",
    "lsa = make_pipeline(svd, Normalizer(copy=False))\n",
    "# Run SVD on the training data, then project the training data.\n",
    "X_train_lsa = lsa.fit_transform(X_train_tfidf)\n",
    "\n",
    "#fitting lsa to test set, for this particular challenge.\n",
    "X_test_lsa = lsa.fit_transform(X_test_tfidf)\n",
    "\n",
    "\n",
    "\n",
    "variance_explained=svd.explained_variance_ratio_\n",
    "total_variance = variance_explained.sum()\n",
    "print(\"Percent variance captured by all components:\",total_variance*100)\n",
    "\n",
    "#Looking at what sorts of paragraphs our solution considers similar, for the first five identified topics\n",
    "paras_by_component=pd.DataFrame(X_test_lsa,index=X_test)\n",
    "for i in range(5):\n",
    "    print('Component {}:'.format(i))\n",
    "    print(paras_by_component.loc[:,i].sort_values(ascending=False)[0:10])\n"
   ]
  },
  {
   "cell_type": "markdown",
   "metadata": {},
   "source": [
    "The scores for the majority of the documents in each component are on the higher side, suggesting that the documents in each component are similar to each other and relevant to the topic.  \n",
    "\n",
    "For example, component 0 contains sentences with \"Oh!\".  Component 1 seems to be primarily focused on a couple of the main characters.  Component 2 contains sentences with the word \"Ah!\".  Component 3 contains sentences abouut the character Mr. Knightley.  Component 4 is about the characters Miss Fairfax or Miss Woodhouse."
   ]
  },
  {
   "cell_type": "code",
   "execution_count": 22,
   "metadata": {},
   "outputs": [
    {
     "data": {
      "image/png": "[encoded data removed]",
      "text/plain": [
       "<Figure size 432x288 with 2 Axes>"
      ]
     },
     "metadata": {
      "needs_background": "light"
     },
     "output_type": "display_data"
    },
    {
     "name": "stdout",
     "output_type": "stream",
     "text": [
      "Key:\n",
      "0 \" It is my duty , and I am sure it is my wish ,\" she continued , \" to have no reserves with you on this subject .\n",
      "1 They arrived , the carriage turned , the step was let down , and Mr . Elton , spruce , black , and smiling , was with them instantly .\n",
      "2 There was one person among his new acquaintance in Surry , not so leniently disposed .\n",
      "3 Jane very patiently assured her that she had not caught any cold .\n",
      "4 CHAPTER XVI\n",
      "5 \" It might be distressing , for the moment ,\" said she ; \" but you seem to have behaved extremely well ; and it is over  and may never  can never , as a first meeting , occur again , and therefore you need not think about it .\"\n",
      "6 \" Very well ; and if he had intended to give her one , he would have told her so .\"\n",
      "7 \" She must have some motive , more powerful than appears , for refusing this invitation ,\" was Emma ' s conclusion .\n",
      "8 \" And I have not forgotten ,\" said Emma , \" how sure you were that he might have come sooner if he would .\n",
      "9 \" Leave it to me .\n"
     ]
    }
   ],
   "source": [
    "# Compute document similarity using LSA components\n",
    "similarity = np.asarray(np.asmatrix(X_test_lsa) * np.asmatrix(X_test_lsa).T)\n",
    "#Only taking the first 10 sentences\n",
    "sim_matrix=pd.DataFrame(similarity,index=X_test).iloc[0:10,0:10]\n",
    "#Making a plot\n",
    "ax = sns.heatmap(sim_matrix,yticklabels=range(10))\n",
    "plt.show()\n",
    "\n",
    "#Generating a key for the plot.\n",
    "print('Key:')\n",
    "for i in range(10):\n",
    "    print(i,sim_matrix.index[i])"
   ]
  },
  {
   "cell_type": "markdown",
   "metadata": {},
   "source": [
    "Not much similarity between the sentences except for some similarity between sentences 0 and 8.\n"
   ]
  },
  {
   "cell_type": "markdown",
   "metadata": {},
   "source": [
    "## Drill 0:"
   ]
  },
  {
   "cell_type": "code",
   "execution_count": null,
   "metadata": {},
   "outputs": [],
   "source": []
  },
  {
   "cell_type": "code",
   "execution_count": null,
   "metadata": {},
   "outputs": [],
   "source": []
  }
 ],
 "metadata": {
  "kernelspec": {
   "display_name": "Python 3",
   "language": "python",
   "name": "python3"
  },
  "language_info": {
   "codemirror_mode": {
    "name": "ipython",
    "version": 3
   },
   "file_extension": ".py",
   "mimetype": "text/x-python",
   "name": "python",
   "nbconvert_exporter": "python",
   "pygments_lexer": "ipython3",
   "version": "3.7.1"
  }
 },
 "nbformat": 4,
 "nbformat_minor": 2
}
